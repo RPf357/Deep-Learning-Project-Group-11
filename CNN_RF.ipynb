{
  "cells": [
    {
      "cell_type": "markdown",
      "metadata": {
        "id": "W3lUf59pN4Mw"
      },
      "source": [
        "# Software Vulnerability Detection using Deep Learning (Experiment Replication)"
      ]
    },
    {
      "cell_type": "markdown",
      "metadata": {
        "id": "nqWnqkoNN4My"
      },
      "source": [
        "### Multicolumn experiment (All CWEs and others)"
      ]
    },
    {
      "cell_type": "markdown",
      "metadata": {
        "id": "HnsQZtJHN4My"
      },
      "source": [
        "* This is from Russell et. al work (Automated Vulnerability Detection in Source Code Using Deep Representation Learning) https://arxiv.org/abs/1807.04320\n",
        "* Datasets downloaded from https://osf.io/d45bw/\n",
        "* Datasets distribution: Training (80%), Validation (10%), Testing (10%)\n",
        "* The dataset consists of the source code of 1.27 million functions mined from open source software, labeled by static analysis for potential vulnerabilities.\n",
        "* Each function's raw source code, starting from the function name, is stored as a variable-length UTF-8 string. Five binary 'vulnerability' labels are provided for each function, corresponding to the four most common CWEs in our data plus all others:\n",
        " * CWE-120 (3.7% of functions)\n",
        " * CWE-119 (1.9% of functions)\n",
        " * CWE-469 (0.95% of functions)\n",
        " * CWE-476 (0.21% of functions)\n",
        " * CWE-other (2.7% of functions)\n",
        "* Functions may have more than one detected CWE each.\n",
        "* Python 3.6 and Tensorflow 2.0.0"
      ]
    },
    {
      "cell_type": "markdown",
      "metadata": {
        "id": "6gvWW2_mN4Mz"
      },
      "source": [
        "Converting the HDF5 files for training/validation/testing datasets to python pickle for ease of future usage"
      ]
    },
    {
      "cell_type": "code",
      "execution_count": 5,
      "metadata": {
        "colab": {
          "base_uri": "https://localhost:8080/"
        },
        "id": "WquYnwjYQEfB",
        "outputId": "aee4f15b-1aa7-4b81-fc3b-3f6d418963db"
      },
      "outputs": [
        {
          "name": "stdout",
          "output_type": "stream",
          "text": [
            "Requirement already satisfied: pip in /usr/local/lib/python3.11/dist-packages (24.1.2)\n",
            "Collecting pip\n",
            "  Downloading pip-25.1-py3-none-any.whl.metadata (3.6 kB)\n",
            "Downloading pip-25.1-py3-none-any.whl (1.8 MB)\n",
            "\u001b[?25l   \u001b[90m━━━━━━━━━━━━━━━━━━━━━━━━━━━━━━━━━━━━━━━━\u001b[0m \u001b[32m0.0/1.8 MB\u001b[0m \u001b[31m?\u001b[0m eta \u001b[36m-:--:--\u001b[0m\r\u001b[2K   \u001b[90m━━━━━━━━━━━━━━━━━━━━━━━━━━━━━━━━━━━━━━━━\u001b[0m \u001b[32m1.8/1.8 MB\u001b[0m \u001b[31m60.2 MB/s\u001b[0m eta \u001b[36m0:00:00\u001b[0m\n",
            "\u001b[?25hInstalling collected packages: pip\n",
            "  Attempting uninstall: pip\n",
            "    Found existing installation: pip 24.1.2\n",
            "    Uninstalling pip-24.1.2:\n",
            "      Successfully uninstalled pip-24.1.2\n",
            "Successfully installed pip-25.1\n",
            "Requirement already satisfied: tensorflow<3.0,>=2.0 in /usr/local/lib/python3.11/dist-packages (2.18.0)\n",
            "Requirement already satisfied: pandas in /usr/local/lib/python3.11/dist-packages (2.2.2)\n",
            "Requirement already satisfied: numpy in /usr/local/lib/python3.11/dist-packages (2.0.2)\n",
            "Requirement already satisfied: scikit-learn in /usr/local/lib/python3.11/dist-packages (1.6.1)\n",
            "Requirement already satisfied: h5py in /usr/local/lib/python3.11/dist-packages (3.13.0)\n",
            "Requirement already satisfied: absl-py>=1.0.0 in /usr/local/lib/python3.11/dist-packages (from tensorflow<3.0,>=2.0) (1.4.0)\n",
            "Requirement already satisfied: astunparse>=1.6.0 in /usr/local/lib/python3.11/dist-packages (from tensorflow<3.0,>=2.0) (1.6.3)\n",
            "Requirement already satisfied: flatbuffers>=24.3.25 in /usr/local/lib/python3.11/dist-packages (from tensorflow<3.0,>=2.0) (25.2.10)\n",
            "Requirement already satisfied: gast!=0.5.0,!=0.5.1,!=0.5.2,>=0.2.1 in /usr/local/lib/python3.11/dist-packages (from tensorflow<3.0,>=2.0) (0.6.0)\n",
            "Requirement already satisfied: google-pasta>=0.1.1 in /usr/local/lib/python3.11/dist-packages (from tensorflow<3.0,>=2.0) (0.2.0)\n",
            "Requirement already satisfied: libclang>=13.0.0 in /usr/local/lib/python3.11/dist-packages (from tensorflow<3.0,>=2.0) (18.1.1)\n",
            "Requirement already satisfied: opt-einsum>=2.3.2 in /usr/local/lib/python3.11/dist-packages (from tensorflow<3.0,>=2.0) (3.4.0)\n",
            "Requirement already satisfied: packaging in /usr/local/lib/python3.11/dist-packages (from tensorflow<3.0,>=2.0) (24.2)\n",
            "Requirement already satisfied: protobuf!=4.21.0,!=4.21.1,!=4.21.2,!=4.21.3,!=4.21.4,!=4.21.5,<6.0.0dev,>=3.20.3 in /usr/local/lib/python3.11/dist-packages (from tensorflow<3.0,>=2.0) (5.29.4)\n",
            "Requirement already satisfied: requests<3,>=2.21.0 in /usr/local/lib/python3.11/dist-packages (from tensorflow<3.0,>=2.0) (2.32.3)\n",
            "Requirement already satisfied: setuptools in /usr/local/lib/python3.11/dist-packages (from tensorflow<3.0,>=2.0) (75.2.0)\n",
            "Requirement already satisfied: six>=1.12.0 in /usr/local/lib/python3.11/dist-packages (from tensorflow<3.0,>=2.0) (1.17.0)\n",
            "Requirement already satisfied: termcolor>=1.1.0 in /usr/local/lib/python3.11/dist-packages (from tensorflow<3.0,>=2.0) (3.0.1)\n",
            "Requirement already satisfied: typing-extensions>=3.6.6 in /usr/local/lib/python3.11/dist-packages (from tensorflow<3.0,>=2.0) (4.13.2)\n",
            "Requirement already satisfied: wrapt>=1.11.0 in /usr/local/lib/python3.11/dist-packages (from tensorflow<3.0,>=2.0) (1.17.2)\n",
            "Requirement already satisfied: grpcio<2.0,>=1.24.3 in /usr/local/lib/python3.11/dist-packages (from tensorflow<3.0,>=2.0) (1.71.0)\n",
            "Requirement already satisfied: tensorboard<2.19,>=2.18 in /usr/local/lib/python3.11/dist-packages (from tensorflow<3.0,>=2.0) (2.18.0)\n",
            "Requirement already satisfied: keras>=3.5.0 in /usr/local/lib/python3.11/dist-packages (from tensorflow<3.0,>=2.0) (3.8.0)\n",
            "Requirement already satisfied: ml-dtypes<0.5.0,>=0.4.0 in /usr/local/lib/python3.11/dist-packages (from tensorflow<3.0,>=2.0) (0.4.1)\n",
            "Requirement already satisfied: tensorflow-io-gcs-filesystem>=0.23.1 in /usr/local/lib/python3.11/dist-packages (from tensorflow<3.0,>=2.0) (0.37.1)\n",
            "Requirement already satisfied: charset-normalizer<4,>=2 in /usr/local/lib/python3.11/dist-packages (from requests<3,>=2.21.0->tensorflow<3.0,>=2.0) (3.4.1)\n",
            "Requirement already satisfied: idna<4,>=2.5 in /usr/local/lib/python3.11/dist-packages (from requests<3,>=2.21.0->tensorflow<3.0,>=2.0) (3.10)\n",
            "Requirement already satisfied: urllib3<3,>=1.21.1 in /usr/local/lib/python3.11/dist-packages (from requests<3,>=2.21.0->tensorflow<3.0,>=2.0) (2.3.0)\n",
            "Requirement already satisfied: certifi>=2017.4.17 in /usr/local/lib/python3.11/dist-packages (from requests<3,>=2.21.0->tensorflow<3.0,>=2.0) (2025.1.31)\n",
            "Requirement already satisfied: markdown>=2.6.8 in /usr/local/lib/python3.11/dist-packages (from tensorboard<2.19,>=2.18->tensorflow<3.0,>=2.0) (3.8)\n",
            "Requirement already satisfied: tensorboard-data-server<0.8.0,>=0.7.0 in /usr/local/lib/python3.11/dist-packages (from tensorboard<2.19,>=2.18->tensorflow<3.0,>=2.0) (0.7.2)\n",
            "Requirement already satisfied: werkzeug>=1.0.1 in /usr/local/lib/python3.11/dist-packages (from tensorboard<2.19,>=2.18->tensorflow<3.0,>=2.0) (3.1.3)\n",
            "Requirement already satisfied: python-dateutil>=2.8.2 in /usr/local/lib/python3.11/dist-packages (from pandas) (2.8.2)\n",
            "Requirement already satisfied: pytz>=2020.1 in /usr/local/lib/python3.11/dist-packages (from pandas) (2025.2)\n",
            "Requirement already satisfied: tzdata>=2022.7 in /usr/local/lib/python3.11/dist-packages (from pandas) (2025.2)\n",
            "Requirement already satisfied: scipy>=1.6.0 in /usr/local/lib/python3.11/dist-packages (from scikit-learn) (1.14.1)\n",
            "Requirement already satisfied: joblib>=1.2.0 in /usr/local/lib/python3.11/dist-packages (from scikit-learn) (1.4.2)\n",
            "Requirement already satisfied: threadpoolctl>=3.1.0 in /usr/local/lib/python3.11/dist-packages (from scikit-learn) (3.6.0)\n",
            "Requirement already satisfied: wheel<1.0,>=0.23.0 in /usr/local/lib/python3.11/dist-packages (from astunparse>=1.6.0->tensorflow<3.0,>=2.0) (0.45.1)\n",
            "Requirement already satisfied: rich in /usr/local/lib/python3.11/dist-packages (from keras>=3.5.0->tensorflow<3.0,>=2.0) (13.9.4)\n",
            "Requirement already satisfied: namex in /usr/local/lib/python3.11/dist-packages (from keras>=3.5.0->tensorflow<3.0,>=2.0) (0.0.9)\n",
            "Requirement already satisfied: optree in /usr/local/lib/python3.11/dist-packages (from keras>=3.5.0->tensorflow<3.0,>=2.0) (0.15.0)\n",
            "Requirement already satisfied: MarkupSafe>=2.1.1 in /usr/local/lib/python3.11/dist-packages (from werkzeug>=1.0.1->tensorboard<2.19,>=2.18->tensorflow<3.0,>=2.0) (3.0.2)\n",
            "Requirement already satisfied: markdown-it-py>=2.2.0 in /usr/local/lib/python3.11/dist-packages (from rich->keras>=3.5.0->tensorflow<3.0,>=2.0) (3.0.0)\n",
            "Requirement already satisfied: pygments<3.0.0,>=2.13.0 in /usr/local/lib/python3.11/dist-packages (from rich->keras>=3.5.0->tensorflow<3.0,>=2.0) (2.18.0)\n",
            "Requirement already satisfied: mdurl~=0.1 in /usr/local/lib/python3.11/dist-packages (from markdown-it-py>=2.2.0->rich->keras>=3.5.0->tensorflow<3.0,>=2.0) (0.1.2)\n"
          ]
        }
      ],
      "source": [
        "# Colab comes with TF pre-installed, but to be explicit:\n",
        "!pip install --upgrade pip\n",
        "!pip install \"tensorflow<3.0,>=2.0\" pandas numpy scikit-learn h5py\n"
      ]
    },
    {
      "cell_type": "markdown",
      "metadata": {},
      "source": [
        "<h1>Loading dataset</h1>"
      ]
    },
    {
      "cell_type": "code",
      "execution_count": 6,
      "metadata": {
        "id": "RVKGDP82N4M0"
      },
      "outputs": [],
      "source": [
        "import h5py\n",
        "import pandas as pd"
      ]
    },
    {
      "cell_type": "code",
      "execution_count": 8,
      "metadata": {
        "id": "MGDKJRfvN4M1"
      },
      "outputs": [],
      "source": [
        "# 3 datasets available\n",
        "\n",
        "data = h5py.File(\"VDISC_train.hdf5\",'r')\n",
        "data = h5py.File(\"VDISC_validate.hdf5\",'r')\n",
        "data = h5py.File(\"VDISC_test.hdf5\",'r')"
      ]
    },
    {
      "cell_type": "code",
      "execution_count": 9,
      "metadata": {
        "colab": {
          "base_uri": "https://localhost:8080/"
        },
        "id": "R0sr5ritN4M1",
        "outputId": "96f55d91-64e0-432b-e34f-1bb93c55f63a"
      },
      "outputs": [
        {
          "name": "stdout",
          "output_type": "stream",
          "text": [
            "CWE-119\n",
            "CWE-120\n",
            "CWE-469\n",
            "CWE-476\n",
            "CWE-other\n",
            "functionSource\n"
          ]
        }
      ],
      "source": [
        "# List all groups\n",
        "data.visit(print)"
      ]
    },
    {
      "cell_type": "markdown",
      "metadata": {
        "id": "fGE7AZJpN4M2"
      },
      "source": [
        "Create a new dataframe from the HDF5 file"
      ]
    },
    {
      "cell_type": "code",
      "execution_count": 10,
      "metadata": {
        "id": "eeKjgygbN4M2"
      },
      "outputs": [],
      "source": [
        "mydf = pd.DataFrame(list(data['functionSource']))"
      ]
    },
    {
      "cell_type": "code",
      "execution_count": 11,
      "metadata": {
        "id": "Ye13QBs5N4M3"
      },
      "outputs": [],
      "source": [
        "mydf['CWE-119']=list(data['CWE-119']); mydf['CWE-120']=list(data['CWE-120']); mydf['CWE-469']=list(data['CWE-469']); mydf['CWE-476']=list(data['CWE-476']); mydf['CWE-other']=list(data['CWE-other'])"
      ]
    },
    {
      "cell_type": "code",
      "execution_count": 12,
      "metadata": {
        "id": "6Gon90GBN4M3"
      },
      "outputs": [],
      "source": [
        "mydf.rename(columns={0:'functionSource'},inplace=True)"
      ]
    },
    {
      "cell_type": "code",
      "execution_count": 13,
      "metadata": {
        "colab": {
          "base_uri": "https://localhost:8080/",
          "height": 206
        },
        "id": "JoNZBKfrN4M3",
        "outputId": "7221fde6-b392-49f1-d193-24e08dd66225"
      },
      "outputs": [
        {
          "data": {
            "application/vnd.google.colaboratory.intrinsic+json": {
              "summary": "{\n  \"name\": \"mydf\",\n  \"rows\": 5,\n  \"fields\": [\n    {\n      \"column\": \"functionSource\",\n      \"properties\": {\n        \"dtype\": \"string\",\n        \"num_unique_values\": 5,\n        \"samples\": [\n          \"b'krb5_krbhst_init_flags(krb5_context context,\\\\n\\\\t\\\\t       const char *realm,\\\\n\\\\t\\\\t       unsigned int type,\\\\n\\\\t\\\\t       int flags,\\\\n\\\\t\\\\t       krb5_krbhst_handle *handle)\\\\n{\\\\n    struct krb5_krbhst_data *kd;\\\\n    krb5_error_code (*next)(krb5_context, struct krb5_krbhst_data *,\\\\n\\\\t\\\\t\\\\t    krb5_krbhst_info **);\\\\n    int def_port;\\\\n    const char *service;\\\\n\\\\n    *handle = NULL;\\\\n\\\\n    switch(type) {\\\\n    case KRB5_KRBHST_KDC:\\\\n\\\\tnext = kdc_get_next;\\\\n\\\\tdef_port = ntohs(krb5_getportbyname (context, \\\"kerberos\\\", \\\"udp\\\", 88));\\\\n\\\\tservice = \\\"kdc\\\";\\\\n\\\\tbreak;\\\\n    case KRB5_KRBHST_ADMIN:\\\\n\\\\tnext = admin_get_next;\\\\n\\\\tdef_port = ntohs(krb5_getportbyname (context, \\\"kerberos-adm\\\",\\\\n\\\\t\\\\t\\\\t\\\\t\\\\t     \\\"tcp\\\", 749));\\\\n\\\\tservice = \\\"admin\\\";\\\\n\\\\tbreak;\\\\n    case KRB5_KRBHST_CHANGEPW:\\\\n\\\\tnext = kpasswd_get_next;\\\\n\\\\tdef_port = ntohs(krb5_getportbyname (context, \\\"kpasswd\\\", \\\"udp\\\",\\\\n\\\\t\\\\t\\\\t\\\\t\\\\t     KPASSWD_PORT));\\\\n\\\\tservice = \\\"change_password\\\";\\\\n\\\\tbreak;\\\\n    default:\\\\n\\\\tkrb5_set_error_message(context, ENOTTY,\\\\n\\\\t\\\\t\\\\t       N_(\\\"unknown krbhst type (%u)\\\", \\\"\\\"), type);\\\\n\\\\treturn ENOTTY;\\\\n    }\\\\n    if((kd = common_init(context, service, realm, flags)) == NULL)\\\\n\\\\treturn ENOMEM;\\\\n    kd->get_next = next;\\\\n    kd->def_port = def_port;\\\\n    *handle = kd;\\\\n    return 0;\\\\n}'\",\n          \"b'generateExecCode(CompileState* comp)\\\\n{\\\\n    generateDebugInfoIfNeeded(comp);\\\\n    comp->enterLoop(this);\\\\n\\\\n    // Body\\\\n    OpValue beforeBody = OpValue::immAddr(CodeGen::nextPC(comp));\\\\n    statement->generateExecCode(comp);\\\\n\\\\n    // continues go to just before the test..\\\\n    comp->resolvePendingContinues(this, CodeGen::nextPC(comp));\\\\n\\\\n    // test\\\\n    OpValue cond = expr->generateEvalCode(comp);\\\\n    CodeGen::emitOp(comp, Op_IfJump, 0, &cond, &beforeBody);\\\\n\\\\n    comp->exitLoop(this);\\\\n}'\",\n          \"b'swap_info_get(swp_entry_t entry)\\\\n{\\\\n\\\\tstruct swap_info_struct *p;\\\\n\\\\tunsigned long offset, type;\\\\n\\\\n\\\\tif (!entry.val)\\\\n\\\\t\\\\tgoto out;\\\\n\\\\ttype = swp_type(entry);\\\\n\\\\tif (type >= nr_swapfiles)\\\\n\\\\t\\\\tgoto bad_nofile;\\\\n\\\\tp = swap_info[type];\\\\n\\\\tif (!(p->flags & SWP_USED))\\\\n\\\\t\\\\tgoto bad_device;\\\\n\\\\toffset = swp_offset(entry);\\\\n\\\\tif (offset >= p->max)\\\\n\\\\t\\\\tgoto bad_offset;\\\\n\\\\tif (!p->swap_map[offset])\\\\n\\\\t\\\\tgoto bad_free;\\\\n\\\\tspin_lock(&p->lock);\\\\n\\\\treturn p;\\\\n\\\\nbad_free:\\\\n\\\\tpr_err(\\\"swap_free: %s%08lx\\\\\\\\n\\\", Unused_offset, entry.val);\\\\n\\\\tgoto out;\\\\nbad_offset:\\\\n\\\\tpr_err(\\\"swap_free: %s%08lx\\\\\\\\n\\\", Bad_offset, entry.val);\\\\n\\\\tgoto out;\\\\nbad_device:\\\\n\\\\tpr_err(\\\"swap_free: %s%08lx\\\\\\\\n\\\", Unused_file, entry.val);\\\\n\\\\tgoto out;\\\\nbad_nofile:\\\\n\\\\tpr_err(\\\"swap_free: %s%08lx\\\\\\\\n\\\", Bad_file, entry.val);\\\\nout:\\\\n\\\\treturn NULL;\\\\n}'\"\n        ],\n        \"semantic_type\": \"\",\n        \"description\": \"\"\n      }\n    },\n    {\n      \"column\": \"CWE-119\",\n      \"properties\": {\n        \"dtype\": \"boolean\",\n        \"num_unique_values\": 1,\n        \"samples\": [\n          false\n        ],\n        \"semantic_type\": \"\",\n        \"description\": \"\"\n      }\n    },\n    {\n      \"column\": \"CWE-120\",\n      \"properties\": {\n        \"dtype\": \"boolean\",\n        \"num_unique_values\": 1,\n        \"samples\": [\n          false\n        ],\n        \"semantic_type\": \"\",\n        \"description\": \"\"\n      }\n    },\n    {\n      \"column\": \"CWE-469\",\n      \"properties\": {\n        \"dtype\": \"boolean\",\n        \"num_unique_values\": 1,\n        \"samples\": [\n          false\n        ],\n        \"semantic_type\": \"\",\n        \"description\": \"\"\n      }\n    },\n    {\n      \"column\": \"CWE-476\",\n      \"properties\": {\n        \"dtype\": \"boolean\",\n        \"num_unique_values\": 1,\n        \"samples\": [\n          false\n        ],\n        \"semantic_type\": \"\",\n        \"description\": \"\"\n      }\n    },\n    {\n      \"column\": \"CWE-other\",\n      \"properties\": {\n        \"dtype\": \"boolean\",\n        \"num_unique_values\": 1,\n        \"samples\": [\n          false\n        ],\n        \"semantic_type\": \"\",\n        \"description\": \"\"\n      }\n    }\n  ]\n}",
              "type": "dataframe"
            },
            "text/html": [
              "\n",
              "  <div id=\"df-35069cd6-3a6a-4499-a645-71ed3d087059\" class=\"colab-df-container\">\n",
              "    <div>\n",
              "<style scoped>\n",
              "    .dataframe tbody tr th:only-of-type {\n",
              "        vertical-align: middle;\n",
              "    }\n",
              "\n",
              "    .dataframe tbody tr th {\n",
              "        vertical-align: top;\n",
              "    }\n",
              "\n",
              "    .dataframe thead th {\n",
              "        text-align: right;\n",
              "    }\n",
              "</style>\n",
              "<table border=\"1\" class=\"dataframe\">\n",
              "  <thead>\n",
              "    <tr style=\"text-align: right;\">\n",
              "      <th></th>\n",
              "      <th>functionSource</th>\n",
              "      <th>CWE-119</th>\n",
              "      <th>CWE-120</th>\n",
              "      <th>CWE-469</th>\n",
              "      <th>CWE-476</th>\n",
              "      <th>CWE-other</th>\n",
              "    </tr>\n",
              "  </thead>\n",
              "  <tbody>\n",
              "    <tr>\n",
              "      <th>0</th>\n",
              "      <td>b'default_event_handler( \\n    GuiWidget *widg...</td>\n",
              "      <td>False</td>\n",
              "      <td>False</td>\n",
              "      <td>False</td>\n",
              "      <td>False</td>\n",
              "      <td>False</td>\n",
              "    </tr>\n",
              "    <tr>\n",
              "      <th>1</th>\n",
              "      <td>b'krb5_krbhst_init_flags(krb5_context context,...</td>\n",
              "      <td>False</td>\n",
              "      <td>False</td>\n",
              "      <td>False</td>\n",
              "      <td>False</td>\n",
              "      <td>False</td>\n",
              "    </tr>\n",
              "    <tr>\n",
              "      <th>2</th>\n",
              "      <td>b'swap_info_get(swp_entry_t entry)\\n{\\n\\tstruc...</td>\n",
              "      <td>False</td>\n",
              "      <td>False</td>\n",
              "      <td>False</td>\n",
              "      <td>False</td>\n",
              "      <td>False</td>\n",
              "    </tr>\n",
              "    <tr>\n",
              "      <th>3</th>\n",
              "      <td>b'parseattribs4(char *&amp;c, const Vec4 &amp;ival = V...</td>\n",
              "      <td>False</td>\n",
              "      <td>False</td>\n",
              "      <td>False</td>\n",
              "      <td>False</td>\n",
              "      <td>False</td>\n",
              "    </tr>\n",
              "    <tr>\n",
              "      <th>4</th>\n",
              "      <td>b'generateExecCode(CompileState* comp)\\n{\\n   ...</td>\n",
              "      <td>False</td>\n",
              "      <td>False</td>\n",
              "      <td>False</td>\n",
              "      <td>False</td>\n",
              "      <td>False</td>\n",
              "    </tr>\n",
              "  </tbody>\n",
              "</table>\n",
              "</div>\n",
              "    <div class=\"colab-df-buttons\">\n",
              "\n",
              "  <div class=\"colab-df-container\">\n",
              "    <button class=\"colab-df-convert\" onclick=\"convertToInteractive('df-35069cd6-3a6a-4499-a645-71ed3d087059')\"\n",
              "            title=\"Convert this dataframe to an interactive table.\"\n",
              "            style=\"display:none;\">\n",
              "\n",
              "  <svg xmlns=\"http://www.w3.org/2000/svg\" height=\"24px\" viewBox=\"0 -960 960 960\">\n",
              "    <path d=\"M120-120v-720h720v720H120Zm60-500h600v-160H180v160Zm220 220h160v-160H400v160Zm0 220h160v-160H400v160ZM180-400h160v-160H180v160Zm440 0h160v-160H620v160ZM180-180h160v-160H180v160Zm440 0h160v-160H620v160Z\"/>\n",
              "  </svg>\n",
              "    </button>\n",
              "\n",
              "  <style>\n",
              "    .colab-df-container {\n",
              "      display:flex;\n",
              "      gap: 12px;\n",
              "    }\n",
              "\n",
              "    .colab-df-convert {\n",
              "      background-color: #E8F0FE;\n",
              "      border: none;\n",
              "      border-radius: 50%;\n",
              "      cursor: pointer;\n",
              "      display: none;\n",
              "      fill: #1967D2;\n",
              "      height: 32px;\n",
              "      padding: 0 0 0 0;\n",
              "      width: 32px;\n",
              "    }\n",
              "\n",
              "    .colab-df-convert:hover {\n",
              "      background-color: #E2EBFA;\n",
              "      box-shadow: 0px 1px 2px rgba(60, 64, 67, 0.3), 0px 1px 3px 1px rgba(60, 64, 67, 0.15);\n",
              "      fill: #174EA6;\n",
              "    }\n",
              "\n",
              "    .colab-df-buttons div {\n",
              "      margin-bottom: 4px;\n",
              "    }\n",
              "\n",
              "    [theme=dark] .colab-df-convert {\n",
              "      background-color: #3B4455;\n",
              "      fill: #D2E3FC;\n",
              "    }\n",
              "\n",
              "    [theme=dark] .colab-df-convert:hover {\n",
              "      background-color: #434B5C;\n",
              "      box-shadow: 0px 1px 3px 1px rgba(0, 0, 0, 0.15);\n",
              "      filter: drop-shadow(0px 1px 2px rgba(0, 0, 0, 0.3));\n",
              "      fill: #FFFFFF;\n",
              "    }\n",
              "  </style>\n",
              "\n",
              "    <script>\n",
              "      const buttonEl =\n",
              "        document.querySelector('#df-35069cd6-3a6a-4499-a645-71ed3d087059 button.colab-df-convert');\n",
              "      buttonEl.style.display =\n",
              "        google.colab.kernel.accessAllowed ? 'block' : 'none';\n",
              "\n",
              "      async function convertToInteractive(key) {\n",
              "        const element = document.querySelector('#df-35069cd6-3a6a-4499-a645-71ed3d087059');\n",
              "        const dataTable =\n",
              "          await google.colab.kernel.invokeFunction('convertToInteractive',\n",
              "                                                    [key], {});\n",
              "        if (!dataTable) return;\n",
              "\n",
              "        const docLinkHtml = 'Like what you see? Visit the ' +\n",
              "          '<a target=\"_blank\" href=https://colab.research.google.com/notebooks/data_table.ipynb>data table notebook</a>'\n",
              "          + ' to learn more about interactive tables.';\n",
              "        element.innerHTML = '';\n",
              "        dataTable['output_type'] = 'display_data';\n",
              "        await google.colab.output.renderOutput(dataTable, element);\n",
              "        const docLink = document.createElement('div');\n",
              "        docLink.innerHTML = docLinkHtml;\n",
              "        element.appendChild(docLink);\n",
              "      }\n",
              "    </script>\n",
              "  </div>\n",
              "\n",
              "\n",
              "    <div id=\"df-9aaddcd5-d250-44d7-850c-fbf0e00e493e\">\n",
              "      <button class=\"colab-df-quickchart\" onclick=\"quickchart('df-9aaddcd5-d250-44d7-850c-fbf0e00e493e')\"\n",
              "                title=\"Suggest charts\"\n",
              "                style=\"display:none;\">\n",
              "\n",
              "<svg xmlns=\"http://www.w3.org/2000/svg\" height=\"24px\"viewBox=\"0 0 24 24\"\n",
              "     width=\"24px\">\n",
              "    <g>\n",
              "        <path d=\"M19 3H5c-1.1 0-2 .9-2 2v14c0 1.1.9 2 2 2h14c1.1 0 2-.9 2-2V5c0-1.1-.9-2-2-2zM9 17H7v-7h2v7zm4 0h-2V7h2v10zm4 0h-2v-4h2v4z\"/>\n",
              "    </g>\n",
              "</svg>\n",
              "      </button>\n",
              "\n",
              "<style>\n",
              "  .colab-df-quickchart {\n",
              "      --bg-color: #E8F0FE;\n",
              "      --fill-color: #1967D2;\n",
              "      --hover-bg-color: #E2EBFA;\n",
              "      --hover-fill-color: #174EA6;\n",
              "      --disabled-fill-color: #AAA;\n",
              "      --disabled-bg-color: #DDD;\n",
              "  }\n",
              "\n",
              "  [theme=dark] .colab-df-quickchart {\n",
              "      --bg-color: #3B4455;\n",
              "      --fill-color: #D2E3FC;\n",
              "      --hover-bg-color: #434B5C;\n",
              "      --hover-fill-color: #FFFFFF;\n",
              "      --disabled-bg-color: #3B4455;\n",
              "      --disabled-fill-color: #666;\n",
              "  }\n",
              "\n",
              "  .colab-df-quickchart {\n",
              "    background-color: var(--bg-color);\n",
              "    border: none;\n",
              "    border-radius: 50%;\n",
              "    cursor: pointer;\n",
              "    display: none;\n",
              "    fill: var(--fill-color);\n",
              "    height: 32px;\n",
              "    padding: 0;\n",
              "    width: 32px;\n",
              "  }\n",
              "\n",
              "  .colab-df-quickchart:hover {\n",
              "    background-color: var(--hover-bg-color);\n",
              "    box-shadow: 0 1px 2px rgba(60, 64, 67, 0.3), 0 1px 3px 1px rgba(60, 64, 67, 0.15);\n",
              "    fill: var(--button-hover-fill-color);\n",
              "  }\n",
              "\n",
              "  .colab-df-quickchart-complete:disabled,\n",
              "  .colab-df-quickchart-complete:disabled:hover {\n",
              "    background-color: var(--disabled-bg-color);\n",
              "    fill: var(--disabled-fill-color);\n",
              "    box-shadow: none;\n",
              "  }\n",
              "\n",
              "  .colab-df-spinner {\n",
              "    border: 2px solid var(--fill-color);\n",
              "    border-color: transparent;\n",
              "    border-bottom-color: var(--fill-color);\n",
              "    animation:\n",
              "      spin 1s steps(1) infinite;\n",
              "  }\n",
              "\n",
              "  @keyframes spin {\n",
              "    0% {\n",
              "      border-color: transparent;\n",
              "      border-bottom-color: var(--fill-color);\n",
              "      border-left-color: var(--fill-color);\n",
              "    }\n",
              "    20% {\n",
              "      border-color: transparent;\n",
              "      border-left-color: var(--fill-color);\n",
              "      border-top-color: var(--fill-color);\n",
              "    }\n",
              "    30% {\n",
              "      border-color: transparent;\n",
              "      border-left-color: var(--fill-color);\n",
              "      border-top-color: var(--fill-color);\n",
              "      border-right-color: var(--fill-color);\n",
              "    }\n",
              "    40% {\n",
              "      border-color: transparent;\n",
              "      border-right-color: var(--fill-color);\n",
              "      border-top-color: var(--fill-color);\n",
              "    }\n",
              "    60% {\n",
              "      border-color: transparent;\n",
              "      border-right-color: var(--fill-color);\n",
              "    }\n",
              "    80% {\n",
              "      border-color: transparent;\n",
              "      border-right-color: var(--fill-color);\n",
              "      border-bottom-color: var(--fill-color);\n",
              "    }\n",
              "    90% {\n",
              "      border-color: transparent;\n",
              "      border-bottom-color: var(--fill-color);\n",
              "    }\n",
              "  }\n",
              "</style>\n",
              "\n",
              "      <script>\n",
              "        async function quickchart(key) {\n",
              "          const quickchartButtonEl =\n",
              "            document.querySelector('#' + key + ' button');\n",
              "          quickchartButtonEl.disabled = true;  // To prevent multiple clicks.\n",
              "          quickchartButtonEl.classList.add('colab-df-spinner');\n",
              "          try {\n",
              "            const charts = await google.colab.kernel.invokeFunction(\n",
              "                'suggestCharts', [key], {});\n",
              "          } catch (error) {\n",
              "            console.error('Error during call to suggestCharts:', error);\n",
              "          }\n",
              "          quickchartButtonEl.classList.remove('colab-df-spinner');\n",
              "          quickchartButtonEl.classList.add('colab-df-quickchart-complete');\n",
              "        }\n",
              "        (() => {\n",
              "          let quickchartButtonEl =\n",
              "            document.querySelector('#df-9aaddcd5-d250-44d7-850c-fbf0e00e493e button');\n",
              "          quickchartButtonEl.style.display =\n",
              "            google.colab.kernel.accessAllowed ? 'block' : 'none';\n",
              "        })();\n",
              "      </script>\n",
              "    </div>\n",
              "\n",
              "    </div>\n",
              "  </div>\n"
            ],
            "text/plain": [
              "                                      functionSource  CWE-119  CWE-120  \\\n",
              "0  b'default_event_handler( \\n    GuiWidget *widg...    False    False   \n",
              "1  b'krb5_krbhst_init_flags(krb5_context context,...    False    False   \n",
              "2  b'swap_info_get(swp_entry_t entry)\\n{\\n\\tstruc...    False    False   \n",
              "3  b'parseattribs4(char *&c, const Vec4 &ival = V...    False    False   \n",
              "4  b'generateExecCode(CompileState* comp)\\n{\\n   ...    False    False   \n",
              "\n",
              "   CWE-469  CWE-476  CWE-other  \n",
              "0    False    False      False  \n",
              "1    False    False      False  \n",
              "2    False    False      False  \n",
              "3    False    False      False  \n",
              "4    False    False      False  "
            ]
          },
          "execution_count": 13,
          "metadata": {},
          "output_type": "execute_result"
        }
      ],
      "source": [
        "mydf.iloc[0:5,0:]"
      ]
    },
    {
      "cell_type": "code",
      "execution_count": 14,
      "metadata": {
        "id": "K9pSjlK_N4M3"
      },
      "outputs": [],
      "source": [
        "mydf.to_pickle(\"VDISC_train.pickle\")\n",
        "mydf.to_pickle(\"VDISC_validate.pickle\")\n",
        "mydf.to_pickle(\"VDISC_test.pickle\")"
      ]
    },
    {
      "cell_type": "markdown",
      "metadata": {
        "id": "pcTaDVZ2N4M4"
      },
      "source": [
        "## Exploratory Data Analysis"
      ]
    },
    {
      "cell_type": "markdown",
      "metadata": {
        "id": "Ld1oREP8N4M4"
      },
      "source": [
        "### Importing processed datasets"
      ]
    },
    {
      "cell_type": "code",
      "execution_count": 15,
      "metadata": {
        "id": "Vbv1fs0DN4M4"
      },
      "outputs": [],
      "source": [
        "train=pd.read_pickle(\"VDISC_train.pickle\")\n",
        "validate=pd.read_pickle(\"VDISC_validate.pickle\")\n",
        "test=pd.read_pickle(\"VDISC_test.pickle\")"
      ]
    },
    {
      "cell_type": "code",
      "execution_count": null,
      "metadata": {
        "id": "h7Gc8pAbN4M4"
      },
      "outputs": [],
      "source": [
        "### CONTINUE LATER"
      ]
    },
    {
      "cell_type": "markdown",
      "metadata": {
        "id": "P3jXVSzCN4M4"
      },
      "source": [
        "## Learning Phase"
      ]
    },
    {
      "cell_type": "markdown",
      "metadata": {
        "id": "GDHLnxglN4M4"
      },
      "source": [
        "### Importing libraries"
      ]
    },
    {
      "cell_type": "code",
      "execution_count": 16,
      "metadata": {
        "colab": {
          "base_uri": "https://localhost:8080/"
        },
        "id": "34G6b3BQN4M5",
        "outputId": "46144d98-1068-4d2e-b746-69dbb1ffe9db"
      },
      "outputs": [
        {
          "name": "stderr",
          "output_type": "stream",
          "text": [
            "WARNING:tensorflow:From <ipython-input-16-c66ca3651243>:10: is_gpu_available (from tensorflow.python.framework.test_util) is deprecated and will be removed in a future version.\n",
            "Instructions for updating:\n",
            "Use `tf.config.list_physical_devices('GPU')` instead.\n"
          ]
        },
        {
          "name": "stdout",
          "output_type": "stream",
          "text": [
            "Tensorlfow version:  2.18.0\n",
            "Eager mode:  True\n",
            "GPU is NOT AVAILABLE\n"
          ]
        }
      ],
      "source": [
        "import tensorflow as tf\n",
        "import numpy as np\n",
        "import pandas as pd\n",
        "import matplotlib.pyplot as plt\n",
        "import sklearn.metrics\n",
        "import pickle\n",
        "\n",
        "print(\"Tensorlfow version: \", tf.__version__)\n",
        "print(\"Eager mode: \", tf.executing_eagerly())\n",
        "print(\"GPU is\", \"available\" if tf.test.is_gpu_available() else \"NOT AVAILABLE\")"
      ]
    },
    {
      "cell_type": "markdown",
      "metadata": {
        "id": "L_2tXLF-N4M5"
      },
      "source": [
        "### Setting static and global variables"
      ]
    },
    {
      "cell_type": "code",
      "execution_count": 17,
      "metadata": {
        "colab": {
          "base_uri": "https://localhost:8080/"
        },
        "id": "nourdEFQN4M5",
        "outputId": "8e61ea56-c769-41ce-8646-cd04b848e02e"
      },
      "outputs": [
        {
          "name": "stdout",
          "output_type": "stream",
          "text": [
            "Random seed is: 71926\n"
          ]
        }
      ],
      "source": [
        "# Generate random seed\n",
        "#myrand=np.random.randint(1, 99999 + 1)\n",
        "myrand=71926\n",
        "np.random.seed(myrand)\n",
        "tf.random.set_seed(myrand)\n",
        "print(\"Random seed is:\",myrand)"
      ]
    },
    {
      "cell_type": "code",
      "execution_count": 18,
      "metadata": {
        "id": "Sngh2JgVN4M5"
      },
      "outputs": [],
      "source": [
        "# Set the global value\n",
        "WORDS_SIZE=10000\n",
        "INPUT_SIZE=500\n",
        "NUM_CLASSES=2\n",
        "MODEL_NUM=0\n",
        "EPOCHS=10"
      ]
    },
    {
      "cell_type": "markdown",
      "metadata": {
        "id": "YDHh2pTYN4M5"
      },
      "source": [
        "### Importing processed datasets"
      ]
    },
    {
      "cell_type": "code",
      "execution_count": 19,
      "metadata": {
        "id": "AzPal4iTUFRN"
      },
      "outputs": [],
      "source": [
        "# Force decode all 'functionSource' entries\n",
        "for df in [train, validate, test]:\n",
        "    df['functionSource'] = df['functionSource'].apply(lambda x: x.decode('utf-8') if isinstance(x, bytes) else str(x))\n"
      ]
    },
    {
      "cell_type": "code",
      "execution_count": 20,
      "metadata": {
        "id": "N9dFb_NEYBFc"
      },
      "outputs": [],
      "source": [
        "assert all(isinstance(x, str) for x in train['functionSource'])\n",
        "assert all(isinstance(x, str) for x in validate['functionSource'])\n",
        "assert all(isinstance(x, str) for x in test['functionSource'])"
      ]
    },
    {
      "cell_type": "code",
      "execution_count": 21,
      "metadata": {
        "colab": {
          "base_uri": "https://localhost:8080/"
        },
        "id": "izJs6KiaN4M5",
        "outputId": "783ae2ee-cc10-40de-8355-e4347abf932e"
      },
      "outputs": [
        {
          "name": "stderr",
          "output_type": "stream",
          "text": [
            "<ipython-input-21-8516747873ed>:4: FutureWarning: Setting an item of incompatible dtype is deprecated and will raise in a future error of pandas. Value '0         0\n",
            "1         0\n",
            "2         0\n",
            "3         0\n",
            "4         0\n",
            "         ..\n",
            "127414    0\n",
            "127415    0\n",
            "127416    0\n",
            "127417    0\n",
            "127418    0\n",
            "Name: CWE-119, Length: 127419, dtype: int64' has dtype incompatible with bool, please explicitly cast to a compatible dtype first.\n",
            "  dataset.iloc[:, col] = dataset.iloc[:, col].astype(bool).map({False: 0, True: 1})\n",
            "<ipython-input-21-8516747873ed>:4: FutureWarning: Setting an item of incompatible dtype is deprecated and will raise in a future error of pandas. Value '0         0\n",
            "1         0\n",
            "2         0\n",
            "3         0\n",
            "4         0\n",
            "         ..\n",
            "127414    0\n",
            "127415    0\n",
            "127416    0\n",
            "127417    0\n",
            "127418    0\n",
            "Name: CWE-120, Length: 127419, dtype: int64' has dtype incompatible with bool, please explicitly cast to a compatible dtype first.\n",
            "  dataset.iloc[:, col] = dataset.iloc[:, col].astype(bool).map({False: 0, True: 1})\n",
            "<ipython-input-21-8516747873ed>:4: FutureWarning: Setting an item of incompatible dtype is deprecated and will raise in a future error of pandas. Value '0         0\n",
            "1         0\n",
            "2         0\n",
            "3         0\n",
            "4         0\n",
            "         ..\n",
            "127414    0\n",
            "127415    0\n",
            "127416    0\n",
            "127417    0\n",
            "127418    0\n",
            "Name: CWE-469, Length: 127419, dtype: int64' has dtype incompatible with bool, please explicitly cast to a compatible dtype first.\n",
            "  dataset.iloc[:, col] = dataset.iloc[:, col].astype(bool).map({False: 0, True: 1})\n",
            "<ipython-input-21-8516747873ed>:4: FutureWarning: Setting an item of incompatible dtype is deprecated and will raise in a future error of pandas. Value '0         0\n",
            "1         0\n",
            "2         0\n",
            "3         0\n",
            "4         0\n",
            "         ..\n",
            "127414    0\n",
            "127415    0\n",
            "127416    0\n",
            "127417    0\n",
            "127418    0\n",
            "Name: CWE-476, Length: 127419, dtype: int64' has dtype incompatible with bool, please explicitly cast to a compatible dtype first.\n",
            "  dataset.iloc[:, col] = dataset.iloc[:, col].astype(bool).map({False: 0, True: 1})\n",
            "<ipython-input-21-8516747873ed>:4: FutureWarning: Setting an item of incompatible dtype is deprecated and will raise in a future error of pandas. Value '0         0\n",
            "1         0\n",
            "2         0\n",
            "3         0\n",
            "4         0\n",
            "         ..\n",
            "127414    0\n",
            "127415    0\n",
            "127416    0\n",
            "127417    0\n",
            "127418    0\n",
            "Name: CWE-other, Length: 127419, dtype: int64' has dtype incompatible with bool, please explicitly cast to a compatible dtype first.\n",
            "  dataset.iloc[:, col] = dataset.iloc[:, col].astype(bool).map({False: 0, True: 1})\n",
            "<ipython-input-21-8516747873ed>:4: FutureWarning: Setting an item of incompatible dtype is deprecated and will raise in a future error of pandas. Value '0         0\n",
            "1         0\n",
            "2         0\n",
            "3         0\n",
            "4         0\n",
            "         ..\n",
            "127414    0\n",
            "127415    0\n",
            "127416    0\n",
            "127417    0\n",
            "127418    0\n",
            "Name: CWE-119, Length: 127419, dtype: int64' has dtype incompatible with bool, please explicitly cast to a compatible dtype first.\n",
            "  dataset.iloc[:, col] = dataset.iloc[:, col].astype(bool).map({False: 0, True: 1})\n",
            "<ipython-input-21-8516747873ed>:4: FutureWarning: Setting an item of incompatible dtype is deprecated and will raise in a future error of pandas. Value '0         0\n",
            "1         0\n",
            "2         0\n",
            "3         0\n",
            "4         0\n",
            "         ..\n",
            "127414    0\n",
            "127415    0\n",
            "127416    0\n",
            "127417    0\n",
            "127418    0\n",
            "Name: CWE-120, Length: 127419, dtype: int64' has dtype incompatible with bool, please explicitly cast to a compatible dtype first.\n",
            "  dataset.iloc[:, col] = dataset.iloc[:, col].astype(bool).map({False: 0, True: 1})\n",
            "<ipython-input-21-8516747873ed>:4: FutureWarning: Setting an item of incompatible dtype is deprecated and will raise in a future error of pandas. Value '0         0\n",
            "1         0\n",
            "2         0\n",
            "3         0\n",
            "4         0\n",
            "         ..\n",
            "127414    0\n",
            "127415    0\n",
            "127416    0\n",
            "127417    0\n",
            "127418    0\n",
            "Name: CWE-469, Length: 127419, dtype: int64' has dtype incompatible with bool, please explicitly cast to a compatible dtype first.\n",
            "  dataset.iloc[:, col] = dataset.iloc[:, col].astype(bool).map({False: 0, True: 1})\n",
            "<ipython-input-21-8516747873ed>:4: FutureWarning: Setting an item of incompatible dtype is deprecated and will raise in a future error of pandas. Value '0         0\n",
            "1         0\n",
            "2         0\n",
            "3         0\n",
            "4         0\n",
            "         ..\n",
            "127414    0\n",
            "127415    0\n",
            "127416    0\n",
            "127417    0\n",
            "127418    0\n",
            "Name: CWE-476, Length: 127419, dtype: int64' has dtype incompatible with bool, please explicitly cast to a compatible dtype first.\n",
            "  dataset.iloc[:, col] = dataset.iloc[:, col].astype(bool).map({False: 0, True: 1})\n",
            "<ipython-input-21-8516747873ed>:4: FutureWarning: Setting an item of incompatible dtype is deprecated and will raise in a future error of pandas. Value '0         0\n",
            "1         0\n",
            "2         0\n",
            "3         0\n",
            "4         0\n",
            "         ..\n",
            "127414    0\n",
            "127415    0\n",
            "127416    0\n",
            "127417    0\n",
            "127418    0\n",
            "Name: CWE-other, Length: 127419, dtype: int64' has dtype incompatible with bool, please explicitly cast to a compatible dtype first.\n",
            "  dataset.iloc[:, col] = dataset.iloc[:, col].astype(bool).map({False: 0, True: 1})\n",
            "<ipython-input-21-8516747873ed>:4: FutureWarning: Setting an item of incompatible dtype is deprecated and will raise in a future error of pandas. Value '0         0\n",
            "1         0\n",
            "2         0\n",
            "3         0\n",
            "4         0\n",
            "         ..\n",
            "127414    0\n",
            "127415    0\n",
            "127416    0\n",
            "127417    0\n",
            "127418    0\n",
            "Name: CWE-119, Length: 127419, dtype: int64' has dtype incompatible with bool, please explicitly cast to a compatible dtype first.\n",
            "  dataset.iloc[:, col] = dataset.iloc[:, col].astype(bool).map({False: 0, True: 1})\n",
            "<ipython-input-21-8516747873ed>:4: FutureWarning: Setting an item of incompatible dtype is deprecated and will raise in a future error of pandas. Value '0         0\n",
            "1         0\n",
            "2         0\n",
            "3         0\n",
            "4         0\n",
            "         ..\n",
            "127414    0\n",
            "127415    0\n",
            "127416    0\n",
            "127417    0\n",
            "127418    0\n",
            "Name: CWE-120, Length: 127419, dtype: int64' has dtype incompatible with bool, please explicitly cast to a compatible dtype first.\n",
            "  dataset.iloc[:, col] = dataset.iloc[:, col].astype(bool).map({False: 0, True: 1})\n",
            "<ipython-input-21-8516747873ed>:4: FutureWarning: Setting an item of incompatible dtype is deprecated and will raise in a future error of pandas. Value '0         0\n",
            "1         0\n",
            "2         0\n",
            "3         0\n",
            "4         0\n",
            "         ..\n",
            "127414    0\n",
            "127415    0\n",
            "127416    0\n",
            "127417    0\n",
            "127418    0\n",
            "Name: CWE-469, Length: 127419, dtype: int64' has dtype incompatible with bool, please explicitly cast to a compatible dtype first.\n",
            "  dataset.iloc[:, col] = dataset.iloc[:, col].astype(bool).map({False: 0, True: 1})\n",
            "<ipython-input-21-8516747873ed>:4: FutureWarning: Setting an item of incompatible dtype is deprecated and will raise in a future error of pandas. Value '0         0\n",
            "1         0\n",
            "2         0\n",
            "3         0\n",
            "4         0\n",
            "         ..\n",
            "127414    0\n",
            "127415    0\n",
            "127416    0\n",
            "127417    0\n",
            "127418    0\n",
            "Name: CWE-476, Length: 127419, dtype: int64' has dtype incompatible with bool, please explicitly cast to a compatible dtype first.\n",
            "  dataset.iloc[:, col] = dataset.iloc[:, col].astype(bool).map({False: 0, True: 1})\n",
            "<ipython-input-21-8516747873ed>:4: FutureWarning: Setting an item of incompatible dtype is deprecated and will raise in a future error of pandas. Value '0         0\n",
            "1         0\n",
            "2         0\n",
            "3         0\n",
            "4         0\n",
            "         ..\n",
            "127414    0\n",
            "127415    0\n",
            "127416    0\n",
            "127417    0\n",
            "127418    0\n",
            "Name: CWE-other, Length: 127419, dtype: int64' has dtype incompatible with bool, please explicitly cast to a compatible dtype first.\n",
            "  dataset.iloc[:, col] = dataset.iloc[:, col].astype(bool).map({False: 0, True: 1})\n"
          ]
        }
      ],
      "source": [
        "# Normalize the CWE columns\n",
        "for dataset in [train, validate, test]:\n",
        "    for col in range(1, 6):\n",
        "        dataset.iloc[:, col] = dataset.iloc[:, col].astype(bool).map({False: 0, True: 1})\n",
        "\n",
        "# Now combine the decoded strings\n",
        "x_all = pd.concat([\n",
        "    train['functionSource'],\n",
        "    validate['functionSource'],\n",
        "    test['functionSource']\n",
        "])\n"
      ]
    },
    {
      "cell_type": "code",
      "execution_count": 22,
      "metadata": {
        "colab": {
          "base_uri": "https://localhost:8080/"
        },
        "id": "iWNL04TAVDfE",
        "outputId": "8b74ab27-abbe-4659-83ef-e72eb11d85c9"
      },
      "outputs": [
        {
          "data": {
            "text/plain": [
              "0"
            ]
          },
          "execution_count": 22,
          "metadata": {},
          "output_type": "execute_result"
        }
      ],
      "source": [
        "sum(isinstance(x, bytes) for x in x_all)"
      ]
    },
    {
      "cell_type": "code",
      "execution_count": 23,
      "metadata": {
        "colab": {
          "base_uri": "https://localhost:8080/",
          "height": 206
        },
        "id": "XuOWVWYJN4M6",
        "outputId": "f9fa064c-4f63-407b-8862-8c2592db5ab9"
      },
      "outputs": [
        {
          "data": {
            "application/vnd.google.colaboratory.intrinsic+json": {
              "type": "dataframe",
              "variable_name": "train"
            },
            "text/html": [
              "\n",
              "  <div id=\"df-dffeba9a-1097-41bc-92d2-dee1909cbab5\" class=\"colab-df-container\">\n",
              "    <div>\n",
              "<style scoped>\n",
              "    .dataframe tbody tr th:only-of-type {\n",
              "        vertical-align: middle;\n",
              "    }\n",
              "\n",
              "    .dataframe tbody tr th {\n",
              "        vertical-align: top;\n",
              "    }\n",
              "\n",
              "    .dataframe thead th {\n",
              "        text-align: right;\n",
              "    }\n",
              "</style>\n",
              "<table border=\"1\" class=\"dataframe\">\n",
              "  <thead>\n",
              "    <tr style=\"text-align: right;\">\n",
              "      <th></th>\n",
              "      <th>functionSource</th>\n",
              "      <th>CWE-119</th>\n",
              "      <th>CWE-120</th>\n",
              "      <th>CWE-469</th>\n",
              "      <th>CWE-476</th>\n",
              "      <th>CWE-other</th>\n",
              "    </tr>\n",
              "  </thead>\n",
              "  <tbody>\n",
              "    <tr>\n",
              "      <th>0</th>\n",
              "      <td>default_event_handler( \\n    GuiWidget *widget...</td>\n",
              "      <td>0</td>\n",
              "      <td>0</td>\n",
              "      <td>0</td>\n",
              "      <td>0</td>\n",
              "      <td>0</td>\n",
              "    </tr>\n",
              "    <tr>\n",
              "      <th>1</th>\n",
              "      <td>krb5_krbhst_init_flags(krb5_context context,\\n...</td>\n",
              "      <td>0</td>\n",
              "      <td>0</td>\n",
              "      <td>0</td>\n",
              "      <td>0</td>\n",
              "      <td>0</td>\n",
              "    </tr>\n",
              "    <tr>\n",
              "      <th>2</th>\n",
              "      <td>swap_info_get(swp_entry_t entry)\\n{\\n\\tstruct ...</td>\n",
              "      <td>0</td>\n",
              "      <td>0</td>\n",
              "      <td>0</td>\n",
              "      <td>0</td>\n",
              "      <td>0</td>\n",
              "    </tr>\n",
              "    <tr>\n",
              "      <th>3</th>\n",
              "      <td>parseattribs4(char *&amp;c, const Vec4 &amp;ival = Vec...</td>\n",
              "      <td>0</td>\n",
              "      <td>0</td>\n",
              "      <td>0</td>\n",
              "      <td>0</td>\n",
              "      <td>0</td>\n",
              "    </tr>\n",
              "    <tr>\n",
              "      <th>4</th>\n",
              "      <td>generateExecCode(CompileState* comp)\\n{\\n    g...</td>\n",
              "      <td>0</td>\n",
              "      <td>0</td>\n",
              "      <td>0</td>\n",
              "      <td>0</td>\n",
              "      <td>0</td>\n",
              "    </tr>\n",
              "  </tbody>\n",
              "</table>\n",
              "</div>\n",
              "    <div class=\"colab-df-buttons\">\n",
              "\n",
              "  <div class=\"colab-df-container\">\n",
              "    <button class=\"colab-df-convert\" onclick=\"convertToInteractive('df-dffeba9a-1097-41bc-92d2-dee1909cbab5')\"\n",
              "            title=\"Convert this dataframe to an interactive table.\"\n",
              "            style=\"display:none;\">\n",
              "\n",
              "  <svg xmlns=\"http://www.w3.org/2000/svg\" height=\"24px\" viewBox=\"0 -960 960 960\">\n",
              "    <path d=\"M120-120v-720h720v720H120Zm60-500h600v-160H180v160Zm220 220h160v-160H400v160Zm0 220h160v-160H400v160ZM180-400h160v-160H180v160Zm440 0h160v-160H620v160ZM180-180h160v-160H180v160Zm440 0h160v-160H620v160Z\"/>\n",
              "  </svg>\n",
              "    </button>\n",
              "\n",
              "  <style>\n",
              "    .colab-df-container {\n",
              "      display:flex;\n",
              "      gap: 12px;\n",
              "    }\n",
              "\n",
              "    .colab-df-convert {\n",
              "      background-color: #E8F0FE;\n",
              "      border: none;\n",
              "      border-radius: 50%;\n",
              "      cursor: pointer;\n",
              "      display: none;\n",
              "      fill: #1967D2;\n",
              "      height: 32px;\n",
              "      padding: 0 0 0 0;\n",
              "      width: 32px;\n",
              "    }\n",
              "\n",
              "    .colab-df-convert:hover {\n",
              "      background-color: #E2EBFA;\n",
              "      box-shadow: 0px 1px 2px rgba(60, 64, 67, 0.3), 0px 1px 3px 1px rgba(60, 64, 67, 0.15);\n",
              "      fill: #174EA6;\n",
              "    }\n",
              "\n",
              "    .colab-df-buttons div {\n",
              "      margin-bottom: 4px;\n",
              "    }\n",
              "\n",
              "    [theme=dark] .colab-df-convert {\n",
              "      background-color: #3B4455;\n",
              "      fill: #D2E3FC;\n",
              "    }\n",
              "\n",
              "    [theme=dark] .colab-df-convert:hover {\n",
              "      background-color: #434B5C;\n",
              "      box-shadow: 0px 1px 3px 1px rgba(0, 0, 0, 0.15);\n",
              "      filter: drop-shadow(0px 1px 2px rgba(0, 0, 0, 0.3));\n",
              "      fill: #FFFFFF;\n",
              "    }\n",
              "  </style>\n",
              "\n",
              "    <script>\n",
              "      const buttonEl =\n",
              "        document.querySelector('#df-dffeba9a-1097-41bc-92d2-dee1909cbab5 button.colab-df-convert');\n",
              "      buttonEl.style.display =\n",
              "        google.colab.kernel.accessAllowed ? 'block' : 'none';\n",
              "\n",
              "      async function convertToInteractive(key) {\n",
              "        const element = document.querySelector('#df-dffeba9a-1097-41bc-92d2-dee1909cbab5');\n",
              "        const dataTable =\n",
              "          await google.colab.kernel.invokeFunction('convertToInteractive',\n",
              "                                                    [key], {});\n",
              "        if (!dataTable) return;\n",
              "\n",
              "        const docLinkHtml = 'Like what you see? Visit the ' +\n",
              "          '<a target=\"_blank\" href=https://colab.research.google.com/notebooks/data_table.ipynb>data table notebook</a>'\n",
              "          + ' to learn more about interactive tables.';\n",
              "        element.innerHTML = '';\n",
              "        dataTable['output_type'] = 'display_data';\n",
              "        await google.colab.output.renderOutput(dataTable, element);\n",
              "        const docLink = document.createElement('div');\n",
              "        docLink.innerHTML = docLinkHtml;\n",
              "        element.appendChild(docLink);\n",
              "      }\n",
              "    </script>\n",
              "  </div>\n",
              "\n",
              "\n",
              "    <div id=\"df-aad954aa-d1a2-489b-bcde-18d196029eac\">\n",
              "      <button class=\"colab-df-quickchart\" onclick=\"quickchart('df-aad954aa-d1a2-489b-bcde-18d196029eac')\"\n",
              "                title=\"Suggest charts\"\n",
              "                style=\"display:none;\">\n",
              "\n",
              "<svg xmlns=\"http://www.w3.org/2000/svg\" height=\"24px\"viewBox=\"0 0 24 24\"\n",
              "     width=\"24px\">\n",
              "    <g>\n",
              "        <path d=\"M19 3H5c-1.1 0-2 .9-2 2v14c0 1.1.9 2 2 2h14c1.1 0 2-.9 2-2V5c0-1.1-.9-2-2-2zM9 17H7v-7h2v7zm4 0h-2V7h2v10zm4 0h-2v-4h2v4z\"/>\n",
              "    </g>\n",
              "</svg>\n",
              "      </button>\n",
              "\n",
              "<style>\n",
              "  .colab-df-quickchart {\n",
              "      --bg-color: #E8F0FE;\n",
              "      --fill-color: #1967D2;\n",
              "      --hover-bg-color: #E2EBFA;\n",
              "      --hover-fill-color: #174EA6;\n",
              "      --disabled-fill-color: #AAA;\n",
              "      --disabled-bg-color: #DDD;\n",
              "  }\n",
              "\n",
              "  [theme=dark] .colab-df-quickchart {\n",
              "      --bg-color: #3B4455;\n",
              "      --fill-color: #D2E3FC;\n",
              "      --hover-bg-color: #434B5C;\n",
              "      --hover-fill-color: #FFFFFF;\n",
              "      --disabled-bg-color: #3B4455;\n",
              "      --disabled-fill-color: #666;\n",
              "  }\n",
              "\n",
              "  .colab-df-quickchart {\n",
              "    background-color: var(--bg-color);\n",
              "    border: none;\n",
              "    border-radius: 50%;\n",
              "    cursor: pointer;\n",
              "    display: none;\n",
              "    fill: var(--fill-color);\n",
              "    height: 32px;\n",
              "    padding: 0;\n",
              "    width: 32px;\n",
              "  }\n",
              "\n",
              "  .colab-df-quickchart:hover {\n",
              "    background-color: var(--hover-bg-color);\n",
              "    box-shadow: 0 1px 2px rgba(60, 64, 67, 0.3), 0 1px 3px 1px rgba(60, 64, 67, 0.15);\n",
              "    fill: var(--button-hover-fill-color);\n",
              "  }\n",
              "\n",
              "  .colab-df-quickchart-complete:disabled,\n",
              "  .colab-df-quickchart-complete:disabled:hover {\n",
              "    background-color: var(--disabled-bg-color);\n",
              "    fill: var(--disabled-fill-color);\n",
              "    box-shadow: none;\n",
              "  }\n",
              "\n",
              "  .colab-df-spinner {\n",
              "    border: 2px solid var(--fill-color);\n",
              "    border-color: transparent;\n",
              "    border-bottom-color: var(--fill-color);\n",
              "    animation:\n",
              "      spin 1s steps(1) infinite;\n",
              "  }\n",
              "\n",
              "  @keyframes spin {\n",
              "    0% {\n",
              "      border-color: transparent;\n",
              "      border-bottom-color: var(--fill-color);\n",
              "      border-left-color: var(--fill-color);\n",
              "    }\n",
              "    20% {\n",
              "      border-color: transparent;\n",
              "      border-left-color: var(--fill-color);\n",
              "      border-top-color: var(--fill-color);\n",
              "    }\n",
              "    30% {\n",
              "      border-color: transparent;\n",
              "      border-left-color: var(--fill-color);\n",
              "      border-top-color: var(--fill-color);\n",
              "      border-right-color: var(--fill-color);\n",
              "    }\n",
              "    40% {\n",
              "      border-color: transparent;\n",
              "      border-right-color: var(--fill-color);\n",
              "      border-top-color: var(--fill-color);\n",
              "    }\n",
              "    60% {\n",
              "      border-color: transparent;\n",
              "      border-right-color: var(--fill-color);\n",
              "    }\n",
              "    80% {\n",
              "      border-color: transparent;\n",
              "      border-right-color: var(--fill-color);\n",
              "      border-bottom-color: var(--fill-color);\n",
              "    }\n",
              "    90% {\n",
              "      border-color: transparent;\n",
              "      border-bottom-color: var(--fill-color);\n",
              "    }\n",
              "  }\n",
              "</style>\n",
              "\n",
              "      <script>\n",
              "        async function quickchart(key) {\n",
              "          const quickchartButtonEl =\n",
              "            document.querySelector('#' + key + ' button');\n",
              "          quickchartButtonEl.disabled = true;  // To prevent multiple clicks.\n",
              "          quickchartButtonEl.classList.add('colab-df-spinner');\n",
              "          try {\n",
              "            const charts = await google.colab.kernel.invokeFunction(\n",
              "                'suggestCharts', [key], {});\n",
              "          } catch (error) {\n",
              "            console.error('Error during call to suggestCharts:', error);\n",
              "          }\n",
              "          quickchartButtonEl.classList.remove('colab-df-spinner');\n",
              "          quickchartButtonEl.classList.add('colab-df-quickchart-complete');\n",
              "        }\n",
              "        (() => {\n",
              "          let quickchartButtonEl =\n",
              "            document.querySelector('#df-aad954aa-d1a2-489b-bcde-18d196029eac button');\n",
              "          quickchartButtonEl.style.display =\n",
              "            google.colab.kernel.accessAllowed ? 'block' : 'none';\n",
              "        })();\n",
              "      </script>\n",
              "    </div>\n",
              "\n",
              "    </div>\n",
              "  </div>\n"
            ],
            "text/plain": [
              "                                      functionSource  CWE-119  CWE-120  \\\n",
              "0  default_event_handler( \\n    GuiWidget *widget...        0        0   \n",
              "1  krb5_krbhst_init_flags(krb5_context context,\\n...        0        0   \n",
              "2  swap_info_get(swp_entry_t entry)\\n{\\n\\tstruct ...        0        0   \n",
              "3  parseattribs4(char *&c, const Vec4 &ival = Vec...        0        0   \n",
              "4  generateExecCode(CompileState* comp)\\n{\\n    g...        0        0   \n",
              "\n",
              "   CWE-469  CWE-476  CWE-other  \n",
              "0        0        0          0  \n",
              "1        0        0          0  \n",
              "2        0        0          0  \n",
              "3        0        0          0  \n",
              "4        0        0          0  "
            ]
          },
          "execution_count": 23,
          "metadata": {},
          "output_type": "execute_result"
        }
      ],
      "source": [
        "# Overview of the datasets\n",
        "train.head()"
      ]
    },
    {
      "cell_type": "markdown",
      "metadata": {
        "id": "vBZ8-JMGN4M6"
      },
      "source": [
        "### Tokenizing the source codes"
      ]
    },
    {
      "cell_type": "code",
      "execution_count": 24,
      "metadata": {
        "colab": {
          "base_uri": "https://localhost:8080/"
        },
        "id": "zOEmF5-5N4M6",
        "outputId": "29de685a-140e-452f-8945-1a888b7cf5b3"
      },
      "outputs": [
        {
          "name": "stdout",
          "output_type": "stream",
          "text": [
            "Number of tokens: 339126\n"
          ]
        }
      ],
      "source": [
        "# Tokenizer with word-level\n",
        "tokenizer = tf.keras.preprocessing.text.Tokenizer(char_level=False)\n",
        "tokenizer.fit_on_texts(x_all)\n",
        "del x_all\n",
        "\n",
        "print('Number of tokens:', len(tokenizer.word_counts))"
      ]
    },
    {
      "cell_type": "code",
      "execution_count": 25,
      "metadata": {
        "id": "p6OTny4HN4M6"
      },
      "outputs": [],
      "source": [
        "# Reducing to top N words\n",
        "tokenizer.num_words = WORDS_SIZE"
      ]
    },
    {
      "cell_type": "code",
      "execution_count": 26,
      "metadata": {
        "colab": {
          "base_uri": "https://localhost:8080/"
        },
        "id": "APjsorAqN4M6",
        "outputId": "4f039b71-7ab2-4b81-d040-044c929c04b2"
      },
      "outputs": [
        {
          "data": {
            "text/plain": [
              "[('if', 1174173),\n",
              " ('0', 792702),\n",
              " ('return', 657996),\n",
              " ('i', 514827),\n",
              " ('1', 448365),\n",
              " ('int', 384147),\n",
              " ('null', 369591),\n",
              " ('the', 295008),\n",
              " ('t', 274803),\n",
              " ('n', 267021)]"
            ]
          },
          "execution_count": 26,
          "metadata": {},
          "output_type": "execute_result"
        }
      ],
      "source": [
        "# Top 10 words\n",
        "sorted(tokenizer.word_counts.items(), key=lambda x:x[1], reverse=True)[0:10]"
      ]
    },
    {
      "cell_type": "markdown",
      "metadata": {
        "id": "nHYcLrSWN4M6"
      },
      "source": [
        "### Create sequence files from the tokens"
      ]
    },
    {
      "cell_type": "code",
      "execution_count": 27,
      "metadata": {
        "id": "FHKywOI6N4M7"
      },
      "outputs": [],
      "source": [
        "## Tokkenizing train data and create matrix\n",
        "list_tokenized_train = tokenizer.texts_to_sequences(train['functionSource'])\n",
        "x_train = tf.keras.preprocessing.sequence.pad_sequences(list_tokenized_train,\n",
        "                                  maxlen=INPUT_SIZE,\n",
        "                                  padding='post')\n",
        "x_train = x_train.astype(np.int64)"
      ]
    },
    {
      "cell_type": "code",
      "execution_count": 28,
      "metadata": {
        "id": "w7jzB3-SN4M7"
      },
      "outputs": [],
      "source": [
        "## Tokkenizing test data and create matrix\n",
        "list_tokenized_test = tokenizer.texts_to_sequences(test['functionSource'])\n",
        "x_test = tf.keras.preprocessing.sequence.pad_sequences(list_tokenized_test,\n",
        "                                 maxlen=INPUT_SIZE,\n",
        "                                 padding='post')\n",
        "x_test = x_test.astype(np.int64)"
      ]
    },
    {
      "cell_type": "code",
      "execution_count": 29,
      "metadata": {
        "id": "zHvCDwFSN4M7"
      },
      "outputs": [],
      "source": [
        "## Tokkenizing validate data and create matrix\n",
        "list_tokenized_validate = tokenizer.texts_to_sequences(validate['functionSource'])\n",
        "x_validate = tf.keras.preprocessing.sequence.pad_sequences(list_tokenized_validate,\n",
        "                                 maxlen=INPUT_SIZE,\n",
        "                                 padding='post')\n",
        "x_validate = x_validate.astype(np.int64)"
      ]
    },
    {
      "cell_type": "code",
      "execution_count": 30,
      "metadata": {
        "colab": {
          "base_uri": "https://localhost:8080/",
          "height": 206
        },
        "id": "t8p97TyTN4M7",
        "outputId": "942b0e89-a127-4f65-b67d-f881f42a4d4d"
      },
      "outputs": [
        {
          "data": {
            "application/vnd.google.colaboratory.intrinsic+json": {
              "summary": "{\n  \"name\": \"test\",\n  \"rows\": 5,\n  \"fields\": [\n    {\n      \"column\": \"CWE-119\",\n      \"properties\": {\n        \"dtype\": \"number\",\n        \"std\": 0,\n        \"min\": 0,\n        \"max\": 0,\n        \"num_unique_values\": 1,\n        \"samples\": [\n          0\n        ],\n        \"semantic_type\": \"\",\n        \"description\": \"\"\n      }\n    },\n    {\n      \"column\": \"CWE-120\",\n      \"properties\": {\n        \"dtype\": \"number\",\n        \"std\": 0,\n        \"min\": 0,\n        \"max\": 0,\n        \"num_unique_values\": 1,\n        \"samples\": [\n          0\n        ],\n        \"semantic_type\": \"\",\n        \"description\": \"\"\n      }\n    },\n    {\n      \"column\": \"CWE-469\",\n      \"properties\": {\n        \"dtype\": \"number\",\n        \"std\": 0,\n        \"min\": 0,\n        \"max\": 0,\n        \"num_unique_values\": 1,\n        \"samples\": [\n          0\n        ],\n        \"semantic_type\": \"\",\n        \"description\": \"\"\n      }\n    },\n    {\n      \"column\": \"CWE-476\",\n      \"properties\": {\n        \"dtype\": \"number\",\n        \"std\": 0,\n        \"min\": 0,\n        \"max\": 0,\n        \"num_unique_values\": 1,\n        \"samples\": [\n          0\n        ],\n        \"semantic_type\": \"\",\n        \"description\": \"\"\n      }\n    },\n    {\n      \"column\": \"CWE-other\",\n      \"properties\": {\n        \"dtype\": \"number\",\n        \"std\": 0,\n        \"min\": 0,\n        \"max\": 0,\n        \"num_unique_values\": 1,\n        \"samples\": [\n          0\n        ],\n        \"semantic_type\": \"\",\n        \"description\": \"\"\n      }\n    }\n  ]\n}",
              "type": "dataframe"
            },
            "text/html": [
              "\n",
              "  <div id=\"df-1d155ce0-c19f-4dc6-97ff-02cb56315592\" class=\"colab-df-container\">\n",
              "    <div>\n",
              "<style scoped>\n",
              "    .dataframe tbody tr th:only-of-type {\n",
              "        vertical-align: middle;\n",
              "    }\n",
              "\n",
              "    .dataframe tbody tr th {\n",
              "        vertical-align: top;\n",
              "    }\n",
              "\n",
              "    .dataframe thead th {\n",
              "        text-align: right;\n",
              "    }\n",
              "</style>\n",
              "<table border=\"1\" class=\"dataframe\">\n",
              "  <thead>\n",
              "    <tr style=\"text-align: right;\">\n",
              "      <th></th>\n",
              "      <th>CWE-119</th>\n",
              "      <th>CWE-120</th>\n",
              "      <th>CWE-469</th>\n",
              "      <th>CWE-476</th>\n",
              "      <th>CWE-other</th>\n",
              "    </tr>\n",
              "  </thead>\n",
              "  <tbody>\n",
              "    <tr>\n",
              "      <th>0</th>\n",
              "      <td>0</td>\n",
              "      <td>0</td>\n",
              "      <td>0</td>\n",
              "      <td>0</td>\n",
              "      <td>0</td>\n",
              "    </tr>\n",
              "    <tr>\n",
              "      <th>1</th>\n",
              "      <td>0</td>\n",
              "      <td>0</td>\n",
              "      <td>0</td>\n",
              "      <td>0</td>\n",
              "      <td>0</td>\n",
              "    </tr>\n",
              "    <tr>\n",
              "      <th>2</th>\n",
              "      <td>0</td>\n",
              "      <td>0</td>\n",
              "      <td>0</td>\n",
              "      <td>0</td>\n",
              "      <td>0</td>\n",
              "    </tr>\n",
              "    <tr>\n",
              "      <th>3</th>\n",
              "      <td>0</td>\n",
              "      <td>0</td>\n",
              "      <td>0</td>\n",
              "      <td>0</td>\n",
              "      <td>0</td>\n",
              "    </tr>\n",
              "    <tr>\n",
              "      <th>4</th>\n",
              "      <td>0</td>\n",
              "      <td>0</td>\n",
              "      <td>0</td>\n",
              "      <td>0</td>\n",
              "      <td>0</td>\n",
              "    </tr>\n",
              "  </tbody>\n",
              "</table>\n",
              "</div>\n",
              "    <div class=\"colab-df-buttons\">\n",
              "\n",
              "  <div class=\"colab-df-container\">\n",
              "    <button class=\"colab-df-convert\" onclick=\"convertToInteractive('df-1d155ce0-c19f-4dc6-97ff-02cb56315592')\"\n",
              "            title=\"Convert this dataframe to an interactive table.\"\n",
              "            style=\"display:none;\">\n",
              "\n",
              "  <svg xmlns=\"http://www.w3.org/2000/svg\" height=\"24px\" viewBox=\"0 -960 960 960\">\n",
              "    <path d=\"M120-120v-720h720v720H120Zm60-500h600v-160H180v160Zm220 220h160v-160H400v160Zm0 220h160v-160H400v160ZM180-400h160v-160H180v160Zm440 0h160v-160H620v160ZM180-180h160v-160H180v160Zm440 0h160v-160H620v160Z\"/>\n",
              "  </svg>\n",
              "    </button>\n",
              "\n",
              "  <style>\n",
              "    .colab-df-container {\n",
              "      display:flex;\n",
              "      gap: 12px;\n",
              "    }\n",
              "\n",
              "    .colab-df-convert {\n",
              "      background-color: #E8F0FE;\n",
              "      border: none;\n",
              "      border-radius: 50%;\n",
              "      cursor: pointer;\n",
              "      display: none;\n",
              "      fill: #1967D2;\n",
              "      height: 32px;\n",
              "      padding: 0 0 0 0;\n",
              "      width: 32px;\n",
              "    }\n",
              "\n",
              "    .colab-df-convert:hover {\n",
              "      background-color: #E2EBFA;\n",
              "      box-shadow: 0px 1px 2px rgba(60, 64, 67, 0.3), 0px 1px 3px 1px rgba(60, 64, 67, 0.15);\n",
              "      fill: #174EA6;\n",
              "    }\n",
              "\n",
              "    .colab-df-buttons div {\n",
              "      margin-bottom: 4px;\n",
              "    }\n",
              "\n",
              "    [theme=dark] .colab-df-convert {\n",
              "      background-color: #3B4455;\n",
              "      fill: #D2E3FC;\n",
              "    }\n",
              "\n",
              "    [theme=dark] .colab-df-convert:hover {\n",
              "      background-color: #434B5C;\n",
              "      box-shadow: 0px 1px 3px 1px rgba(0, 0, 0, 0.15);\n",
              "      filter: drop-shadow(0px 1px 2px rgba(0, 0, 0, 0.3));\n",
              "      fill: #FFFFFF;\n",
              "    }\n",
              "  </style>\n",
              "\n",
              "    <script>\n",
              "      const buttonEl =\n",
              "        document.querySelector('#df-1d155ce0-c19f-4dc6-97ff-02cb56315592 button.colab-df-convert');\n",
              "      buttonEl.style.display =\n",
              "        google.colab.kernel.accessAllowed ? 'block' : 'none';\n",
              "\n",
              "      async function convertToInteractive(key) {\n",
              "        const element = document.querySelector('#df-1d155ce0-c19f-4dc6-97ff-02cb56315592');\n",
              "        const dataTable =\n",
              "          await google.colab.kernel.invokeFunction('convertToInteractive',\n",
              "                                                    [key], {});\n",
              "        if (!dataTable) return;\n",
              "\n",
              "        const docLinkHtml = 'Like what you see? Visit the ' +\n",
              "          '<a target=\"_blank\" href=https://colab.research.google.com/notebooks/data_table.ipynb>data table notebook</a>'\n",
              "          + ' to learn more about interactive tables.';\n",
              "        element.innerHTML = '';\n",
              "        dataTable['output_type'] = 'display_data';\n",
              "        await google.colab.output.renderOutput(dataTable, element);\n",
              "        const docLink = document.createElement('div');\n",
              "        docLink.innerHTML = docLinkHtml;\n",
              "        element.appendChild(docLink);\n",
              "      }\n",
              "    </script>\n",
              "  </div>\n",
              "\n",
              "\n",
              "    <div id=\"df-1fd30b7f-4fe9-4282-a986-476d3944d45e\">\n",
              "      <button class=\"colab-df-quickchart\" onclick=\"quickchart('df-1fd30b7f-4fe9-4282-a986-476d3944d45e')\"\n",
              "                title=\"Suggest charts\"\n",
              "                style=\"display:none;\">\n",
              "\n",
              "<svg xmlns=\"http://www.w3.org/2000/svg\" height=\"24px\"viewBox=\"0 0 24 24\"\n",
              "     width=\"24px\">\n",
              "    <g>\n",
              "        <path d=\"M19 3H5c-1.1 0-2 .9-2 2v14c0 1.1.9 2 2 2h14c1.1 0 2-.9 2-2V5c0-1.1-.9-2-2-2zM9 17H7v-7h2v7zm4 0h-2V7h2v10zm4 0h-2v-4h2v4z\"/>\n",
              "    </g>\n",
              "</svg>\n",
              "      </button>\n",
              "\n",
              "<style>\n",
              "  .colab-df-quickchart {\n",
              "      --bg-color: #E8F0FE;\n",
              "      --fill-color: #1967D2;\n",
              "      --hover-bg-color: #E2EBFA;\n",
              "      --hover-fill-color: #174EA6;\n",
              "      --disabled-fill-color: #AAA;\n",
              "      --disabled-bg-color: #DDD;\n",
              "  }\n",
              "\n",
              "  [theme=dark] .colab-df-quickchart {\n",
              "      --bg-color: #3B4455;\n",
              "      --fill-color: #D2E3FC;\n",
              "      --hover-bg-color: #434B5C;\n",
              "      --hover-fill-color: #FFFFFF;\n",
              "      --disabled-bg-color: #3B4455;\n",
              "      --disabled-fill-color: #666;\n",
              "  }\n",
              "\n",
              "  .colab-df-quickchart {\n",
              "    background-color: var(--bg-color);\n",
              "    border: none;\n",
              "    border-radius: 50%;\n",
              "    cursor: pointer;\n",
              "    display: none;\n",
              "    fill: var(--fill-color);\n",
              "    height: 32px;\n",
              "    padding: 0;\n",
              "    width: 32px;\n",
              "  }\n",
              "\n",
              "  .colab-df-quickchart:hover {\n",
              "    background-color: var(--hover-bg-color);\n",
              "    box-shadow: 0 1px 2px rgba(60, 64, 67, 0.3), 0 1px 3px 1px rgba(60, 64, 67, 0.15);\n",
              "    fill: var(--button-hover-fill-color);\n",
              "  }\n",
              "\n",
              "  .colab-df-quickchart-complete:disabled,\n",
              "  .colab-df-quickchart-complete:disabled:hover {\n",
              "    background-color: var(--disabled-bg-color);\n",
              "    fill: var(--disabled-fill-color);\n",
              "    box-shadow: none;\n",
              "  }\n",
              "\n",
              "  .colab-df-spinner {\n",
              "    border: 2px solid var(--fill-color);\n",
              "    border-color: transparent;\n",
              "    border-bottom-color: var(--fill-color);\n",
              "    animation:\n",
              "      spin 1s steps(1) infinite;\n",
              "  }\n",
              "\n",
              "  @keyframes spin {\n",
              "    0% {\n",
              "      border-color: transparent;\n",
              "      border-bottom-color: var(--fill-color);\n",
              "      border-left-color: var(--fill-color);\n",
              "    }\n",
              "    20% {\n",
              "      border-color: transparent;\n",
              "      border-left-color: var(--fill-color);\n",
              "      border-top-color: var(--fill-color);\n",
              "    }\n",
              "    30% {\n",
              "      border-color: transparent;\n",
              "      border-left-color: var(--fill-color);\n",
              "      border-top-color: var(--fill-color);\n",
              "      border-right-color: var(--fill-color);\n",
              "    }\n",
              "    40% {\n",
              "      border-color: transparent;\n",
              "      border-right-color: var(--fill-color);\n",
              "      border-top-color: var(--fill-color);\n",
              "    }\n",
              "    60% {\n",
              "      border-color: transparent;\n",
              "      border-right-color: var(--fill-color);\n",
              "    }\n",
              "    80% {\n",
              "      border-color: transparent;\n",
              "      border-right-color: var(--fill-color);\n",
              "      border-bottom-color: var(--fill-color);\n",
              "    }\n",
              "    90% {\n",
              "      border-color: transparent;\n",
              "      border-bottom-color: var(--fill-color);\n",
              "    }\n",
              "  }\n",
              "</style>\n",
              "\n",
              "      <script>\n",
              "        async function quickchart(key) {\n",
              "          const quickchartButtonEl =\n",
              "            document.querySelector('#' + key + ' button');\n",
              "          quickchartButtonEl.disabled = true;  // To prevent multiple clicks.\n",
              "          quickchartButtonEl.classList.add('colab-df-spinner');\n",
              "          try {\n",
              "            const charts = await google.colab.kernel.invokeFunction(\n",
              "                'suggestCharts', [key], {});\n",
              "          } catch (error) {\n",
              "            console.error('Error during call to suggestCharts:', error);\n",
              "          }\n",
              "          quickchartButtonEl.classList.remove('colab-df-spinner');\n",
              "          quickchartButtonEl.classList.add('colab-df-quickchart-complete');\n",
              "        }\n",
              "        (() => {\n",
              "          let quickchartButtonEl =\n",
              "            document.querySelector('#df-1fd30b7f-4fe9-4282-a986-476d3944d45e button');\n",
              "          quickchartButtonEl.style.display =\n",
              "            google.colab.kernel.accessAllowed ? 'block' : 'none';\n",
              "        })();\n",
              "      </script>\n",
              "    </div>\n",
              "\n",
              "    </div>\n",
              "  </div>\n"
            ],
            "text/plain": [
              "   CWE-119  CWE-120  CWE-469  CWE-476  CWE-other\n",
              "0        0        0        0        0          0\n",
              "1        0        0        0        0          0\n",
              "2        0        0        0        0          0\n",
              "3        0        0        0        0          0\n",
              "4        0        0        0        0          0"
            ]
          },
          "execution_count": 30,
          "metadata": {},
          "output_type": "execute_result"
        }
      ],
      "source": [
        "# Example data\n",
        "test.iloc[0:5,1:6]"
      ]
    },
    {
      "cell_type": "markdown",
      "metadata": {
        "id": "PTvTXWbRN4M7"
      },
      "source": [
        "### One-Hot-Enconding (OHE) on the datasets"
      ]
    },
    {
      "cell_type": "code",
      "execution_count": 31,
      "metadata": {
        "id": "LnmHclF4N4M7"
      },
      "outputs": [],
      "source": [
        "y_train=[]\n",
        "y_test=[]\n",
        "y_validate=[]\n",
        "\n",
        "for col in range(1,6):\n",
        "    y_train.append(tf.keras.utils.to_categorical(train.iloc[:,col], num_classes=NUM_CLASSES).astype(np.int64))\n",
        "    y_test.append(tf.keras.utils.to_categorical(test.iloc[:,col], num_classes=NUM_CLASSES).astype(np.int64))\n",
        "    y_validate.append(tf.keras.utils.to_categorical(validate.iloc[:,col], num_classes=NUM_CLASSES).astype(np.int64))"
      ]
    },
    {
      "cell_type": "code",
      "execution_count": 32,
      "metadata": {
        "colab": {
          "base_uri": "https://localhost:8080/"
        },
        "id": "miRWG73iN4M8",
        "outputId": "bc8838fc-1427-4b6d-8ef8-1291e2fbbbbd"
      },
      "outputs": [
        {
          "data": {
            "text/plain": [
              "array([[1, 0],\n",
              "       [1, 0],\n",
              "       [1, 0],\n",
              "       [1, 0],\n",
              "       [1, 0],\n",
              "       [1, 0],\n",
              "       [1, 0],\n",
              "       [1, 0],\n",
              "       [1, 0]])"
            ]
          },
          "execution_count": 32,
          "metadata": {},
          "output_type": "execute_result"
        }
      ],
      "source": [
        "# Example data\n",
        "y_test[0][1:10]"
      ]
    },
    {
      "cell_type": "markdown",
      "metadata": {
        "id": "k2VVdCG2N4NC"
      },
      "source": [
        "### Model Definition (CNN with Gaussian Noise and 5 Output Splits)"
      ]
    },
    {
      "cell_type": "code",
      "execution_count": 33,
      "metadata": {
        "id": "ZAg3kElCN4NC"
      },
      "outputs": [],
      "source": [
        "# Create a random weights matrix\n",
        "\n",
        "random_weights = np.random.normal(size=(WORDS_SIZE, 13),scale=0.01)"
      ]
    },
    {
      "cell_type": "code",
      "execution_count": 46,
      "metadata": {
        "colab": {
          "base_uri": "https://localhost:8080/",
          "height": 626
        },
        "id": "5DuLpV5wN4NC",
        "outputId": "2e9adc39-726d-477e-bd04-b5d05477ebf6"
      },
      "outputs": [
        {
          "name": "stdout",
          "output_type": "stream",
          "text": [
            "✅ Model rebuilt correctly with 5 separate outputs.\n"
          ]
        },
        {
          "data": {
            "text/html": [
              "<pre style=\"white-space:pre;overflow-x:auto;line-height:normal;font-family:Menlo,'DejaVu Sans Mono',consolas,'Courier New',monospace\"><span style=\"font-weight: bold\">Model: \"functional_1\"</span>\n",
              "</pre>\n"
            ],
            "text/plain": [
              "\u001b[1mModel: \"functional_1\"\u001b[0m\n"
            ]
          },
          "metadata": {},
          "output_type": "display_data"
        },
        {
          "data": {
            "text/html": [
              "<pre style=\"white-space:pre;overflow-x:auto;line-height:normal;font-family:Menlo,'DejaVu Sans Mono',consolas,'Courier New',monospace\">┏━━━━━━━━━━━━━━━━━━━━━┳━━━━━━━━━━━━━━━━━━━┳━━━━━━━━━━━━┳━━━━━━━━━━━━━━━━━━━┓\n",
              "┃<span style=\"font-weight: bold\"> Layer (type)        </span>┃<span style=\"font-weight: bold\"> Output Shape      </span>┃<span style=\"font-weight: bold\">    Param # </span>┃<span style=\"font-weight: bold\"> Connected to      </span>┃\n",
              "┡━━━━━━━━━━━━━━━━━━━━━╇━━━━━━━━━━━━━━━━━━━╇━━━━━━━━━━━━╇━━━━━━━━━━━━━━━━━━━┩\n",
              "│ input_layer_1       │ (<span style=\"color: #00d7ff; text-decoration-color: #00d7ff\">None</span>, <span style=\"color: #00af00; text-decoration-color: #00af00\">500</span>)       │          <span style=\"color: #00af00; text-decoration-color: #00af00\">0</span> │ -                 │\n",
              "│ (<span style=\"color: #0087ff; text-decoration-color: #0087ff\">InputLayer</span>)        │                   │            │                   │\n",
              "├─────────────────────┼───────────────────┼────────────┼───────────────────┤\n",
              "│ embedding_1         │ (<span style=\"color: #00d7ff; text-decoration-color: #00d7ff\">None</span>, <span style=\"color: #00af00; text-decoration-color: #00af00\">500</span>, <span style=\"color: #00af00; text-decoration-color: #00af00\">13</span>)   │    <span style=\"color: #00af00; text-decoration-color: #00af00\">130,000</span> │ input_layer_1[<span style=\"color: #00af00; text-decoration-color: #00af00\">0</span>]… │\n",
              "│ (<span style=\"color: #0087ff; text-decoration-color: #0087ff\">Embedding</span>)         │                   │            │                   │\n",
              "├─────────────────────┼───────────────────┼────────────┼───────────────────┤\n",
              "│ conv1d_1 (<span style=\"color: #0087ff; text-decoration-color: #0087ff\">Conv1D</span>)   │ (<span style=\"color: #00d7ff; text-decoration-color: #00d7ff\">None</span>, <span style=\"color: #00af00; text-decoration-color: #00af00\">500</span>, <span style=\"color: #00af00; text-decoration-color: #00af00\">256</span>)  │     <span style=\"color: #00af00; text-decoration-color: #00af00\">30,208</span> │ embedding_1[<span style=\"color: #00af00; text-decoration-color: #00af00\">0</span>][<span style=\"color: #00af00; text-decoration-color: #00af00\">0</span>] │\n",
              "├─────────────────────┼───────────────────┼────────────┼───────────────────┤\n",
              "│ max_pooling1d_1     │ (<span style=\"color: #00d7ff; text-decoration-color: #00d7ff\">None</span>, <span style=\"color: #00af00; text-decoration-color: #00af00\">100</span>, <span style=\"color: #00af00; text-decoration-color: #00af00\">256</span>)  │          <span style=\"color: #00af00; text-decoration-color: #00af00\">0</span> │ conv1d_1[<span style=\"color: #00af00; text-decoration-color: #00af00\">0</span>][<span style=\"color: #00af00; text-decoration-color: #00af00\">0</span>]    │\n",
              "│ (<span style=\"color: #0087ff; text-decoration-color: #0087ff\">MaxPooling1D</span>)      │                   │            │                   │\n",
              "├─────────────────────┼───────────────────┼────────────┼───────────────────┤\n",
              "│ dropout_1 (<span style=\"color: #0087ff; text-decoration-color: #0087ff\">Dropout</span>) │ (<span style=\"color: #00d7ff; text-decoration-color: #00d7ff\">None</span>, <span style=\"color: #00af00; text-decoration-color: #00af00\">100</span>, <span style=\"color: #00af00; text-decoration-color: #00af00\">256</span>)  │          <span style=\"color: #00af00; text-decoration-color: #00af00\">0</span> │ max_pooling1d_1[<span style=\"color: #00af00; text-decoration-color: #00af00\">…</span> │\n",
              "├─────────────────────┼───────────────────┼────────────┼───────────────────┤\n",
              "│ flatten_1 (<span style=\"color: #0087ff; text-decoration-color: #0087ff\">Flatten</span>) │ (<span style=\"color: #00d7ff; text-decoration-color: #00d7ff\">None</span>, <span style=\"color: #00af00; text-decoration-color: #00af00\">25600</span>)     │          <span style=\"color: #00af00; text-decoration-color: #00af00\">0</span> │ dropout_1[<span style=\"color: #00af00; text-decoration-color: #00af00\">0</span>][<span style=\"color: #00af00; text-decoration-color: #00af00\">0</span>]   │\n",
              "├─────────────────────┼───────────────────┼────────────┼───────────────────┤\n",
              "│ dense_2 (<span style=\"color: #0087ff; text-decoration-color: #0087ff\">Dense</span>)     │ (<span style=\"color: #00d7ff; text-decoration-color: #00d7ff\">None</span>, <span style=\"color: #00af00; text-decoration-color: #00af00\">32</span>)        │    <span style=\"color: #00af00; text-decoration-color: #00af00\">819,232</span> │ flatten_1[<span style=\"color: #00af00; text-decoration-color: #00af00\">0</span>][<span style=\"color: #00af00; text-decoration-color: #00af00\">0</span>]   │\n",
              "├─────────────────────┼───────────────────┼────────────┼───────────────────┤\n",
              "│ dense_3 (<span style=\"color: #0087ff; text-decoration-color: #0087ff\">Dense</span>)     │ (<span style=\"color: #00d7ff; text-decoration-color: #00d7ff\">None</span>, <span style=\"color: #00af00; text-decoration-color: #00af00\">8</span>)         │        <span style=\"color: #00af00; text-decoration-color: #00af00\">264</span> │ dense_2[<span style=\"color: #00af00; text-decoration-color: #00af00\">0</span>][<span style=\"color: #00af00; text-decoration-color: #00af00\">0</span>]     │\n",
              "├─────────────────────┼───────────────────┼────────────┼───────────────────┤\n",
              "│ output_1 (<span style=\"color: #0087ff; text-decoration-color: #0087ff\">Dense</span>)    │ (<span style=\"color: #00d7ff; text-decoration-color: #00d7ff\">None</span>, <span style=\"color: #00af00; text-decoration-color: #00af00\">2</span>)         │         <span style=\"color: #00af00; text-decoration-color: #00af00\">18</span> │ dense_3[<span style=\"color: #00af00; text-decoration-color: #00af00\">0</span>][<span style=\"color: #00af00; text-decoration-color: #00af00\">0</span>]     │\n",
              "├─────────────────────┼───────────────────┼────────────┼───────────────────┤\n",
              "│ output_2 (<span style=\"color: #0087ff; text-decoration-color: #0087ff\">Dense</span>)    │ (<span style=\"color: #00d7ff; text-decoration-color: #00d7ff\">None</span>, <span style=\"color: #00af00; text-decoration-color: #00af00\">2</span>)         │         <span style=\"color: #00af00; text-decoration-color: #00af00\">18</span> │ dense_3[<span style=\"color: #00af00; text-decoration-color: #00af00\">0</span>][<span style=\"color: #00af00; text-decoration-color: #00af00\">0</span>]     │\n",
              "├─────────────────────┼───────────────────┼────────────┼───────────────────┤\n",
              "│ output_3 (<span style=\"color: #0087ff; text-decoration-color: #0087ff\">Dense</span>)    │ (<span style=\"color: #00d7ff; text-decoration-color: #00d7ff\">None</span>, <span style=\"color: #00af00; text-decoration-color: #00af00\">2</span>)         │         <span style=\"color: #00af00; text-decoration-color: #00af00\">18</span> │ dense_3[<span style=\"color: #00af00; text-decoration-color: #00af00\">0</span>][<span style=\"color: #00af00; text-decoration-color: #00af00\">0</span>]     │\n",
              "├─────────────────────┼───────────────────┼────────────┼───────────────────┤\n",
              "│ output_4 (<span style=\"color: #0087ff; text-decoration-color: #0087ff\">Dense</span>)    │ (<span style=\"color: #00d7ff; text-decoration-color: #00d7ff\">None</span>, <span style=\"color: #00af00; text-decoration-color: #00af00\">2</span>)         │         <span style=\"color: #00af00; text-decoration-color: #00af00\">18</span> │ dense_3[<span style=\"color: #00af00; text-decoration-color: #00af00\">0</span>][<span style=\"color: #00af00; text-decoration-color: #00af00\">0</span>]     │\n",
              "├─────────────────────┼───────────────────┼────────────┼───────────────────┤\n",
              "│ output_5 (<span style=\"color: #0087ff; text-decoration-color: #0087ff\">Dense</span>)    │ (<span style=\"color: #00d7ff; text-decoration-color: #00d7ff\">None</span>, <span style=\"color: #00af00; text-decoration-color: #00af00\">2</span>)         │         <span style=\"color: #00af00; text-decoration-color: #00af00\">18</span> │ dense_3[<span style=\"color: #00af00; text-decoration-color: #00af00\">0</span>][<span style=\"color: #00af00; text-decoration-color: #00af00\">0</span>]     │\n",
              "└─────────────────────┴───────────────────┴────────────┴───────────────────┘\n",
              "</pre>\n"
            ],
            "text/plain": [
              "┏━━━━━━━━━━━━━━━━━━━━━┳━━━━━━━━━━━━━━━━━━━┳━━━━━━━━━━━━┳━━━━━━━━━━━━━━━━━━━┓\n",
              "┃\u001b[1m \u001b[0m\u001b[1mLayer (type)       \u001b[0m\u001b[1m \u001b[0m┃\u001b[1m \u001b[0m\u001b[1mOutput Shape     \u001b[0m\u001b[1m \u001b[0m┃\u001b[1m \u001b[0m\u001b[1m   Param #\u001b[0m\u001b[1m \u001b[0m┃\u001b[1m \u001b[0m\u001b[1mConnected to     \u001b[0m\u001b[1m \u001b[0m┃\n",
              "┡━━━━━━━━━━━━━━━━━━━━━╇━━━━━━━━━━━━━━━━━━━╇━━━━━━━━━━━━╇━━━━━━━━━━━━━━━━━━━┩\n",
              "│ input_layer_1       │ (\u001b[38;5;45mNone\u001b[0m, \u001b[38;5;34m500\u001b[0m)       │          \u001b[38;5;34m0\u001b[0m │ -                 │\n",
              "│ (\u001b[38;5;33mInputLayer\u001b[0m)        │                   │            │                   │\n",
              "├─────────────────────┼───────────────────┼────────────┼───────────────────┤\n",
              "│ embedding_1         │ (\u001b[38;5;45mNone\u001b[0m, \u001b[38;5;34m500\u001b[0m, \u001b[38;5;34m13\u001b[0m)   │    \u001b[38;5;34m130,000\u001b[0m │ input_layer_1[\u001b[38;5;34m0\u001b[0m]… │\n",
              "│ (\u001b[38;5;33mEmbedding\u001b[0m)         │                   │            │                   │\n",
              "├─────────────────────┼───────────────────┼────────────┼───────────────────┤\n",
              "│ conv1d_1 (\u001b[38;5;33mConv1D\u001b[0m)   │ (\u001b[38;5;45mNone\u001b[0m, \u001b[38;5;34m500\u001b[0m, \u001b[38;5;34m256\u001b[0m)  │     \u001b[38;5;34m30,208\u001b[0m │ embedding_1[\u001b[38;5;34m0\u001b[0m][\u001b[38;5;34m0\u001b[0m] │\n",
              "├─────────────────────┼───────────────────┼────────────┼───────────────────┤\n",
              "│ max_pooling1d_1     │ (\u001b[38;5;45mNone\u001b[0m, \u001b[38;5;34m100\u001b[0m, \u001b[38;5;34m256\u001b[0m)  │          \u001b[38;5;34m0\u001b[0m │ conv1d_1[\u001b[38;5;34m0\u001b[0m][\u001b[38;5;34m0\u001b[0m]    │\n",
              "│ (\u001b[38;5;33mMaxPooling1D\u001b[0m)      │                   │            │                   │\n",
              "├─────────────────────┼───────────────────┼────────────┼───────────────────┤\n",
              "│ dropout_1 (\u001b[38;5;33mDropout\u001b[0m) │ (\u001b[38;5;45mNone\u001b[0m, \u001b[38;5;34m100\u001b[0m, \u001b[38;5;34m256\u001b[0m)  │          \u001b[38;5;34m0\u001b[0m │ max_pooling1d_1[\u001b[38;5;34m…\u001b[0m │\n",
              "├─────────────────────┼───────────────────┼────────────┼───────────────────┤\n",
              "│ flatten_1 (\u001b[38;5;33mFlatten\u001b[0m) │ (\u001b[38;5;45mNone\u001b[0m, \u001b[38;5;34m25600\u001b[0m)     │          \u001b[38;5;34m0\u001b[0m │ dropout_1[\u001b[38;5;34m0\u001b[0m][\u001b[38;5;34m0\u001b[0m]   │\n",
              "├─────────────────────┼───────────────────┼────────────┼───────────────────┤\n",
              "│ dense_2 (\u001b[38;5;33mDense\u001b[0m)     │ (\u001b[38;5;45mNone\u001b[0m, \u001b[38;5;34m32\u001b[0m)        │    \u001b[38;5;34m819,232\u001b[0m │ flatten_1[\u001b[38;5;34m0\u001b[0m][\u001b[38;5;34m0\u001b[0m]   │\n",
              "├─────────────────────┼───────────────────┼────────────┼───────────────────┤\n",
              "│ dense_3 (\u001b[38;5;33mDense\u001b[0m)     │ (\u001b[38;5;45mNone\u001b[0m, \u001b[38;5;34m8\u001b[0m)         │        \u001b[38;5;34m264\u001b[0m │ dense_2[\u001b[38;5;34m0\u001b[0m][\u001b[38;5;34m0\u001b[0m]     │\n",
              "├─────────────────────┼───────────────────┼────────────┼───────────────────┤\n",
              "│ output_1 (\u001b[38;5;33mDense\u001b[0m)    │ (\u001b[38;5;45mNone\u001b[0m, \u001b[38;5;34m2\u001b[0m)         │         \u001b[38;5;34m18\u001b[0m │ dense_3[\u001b[38;5;34m0\u001b[0m][\u001b[38;5;34m0\u001b[0m]     │\n",
              "├─────────────────────┼───────────────────┼────────────┼───────────────────┤\n",
              "│ output_2 (\u001b[38;5;33mDense\u001b[0m)    │ (\u001b[38;5;45mNone\u001b[0m, \u001b[38;5;34m2\u001b[0m)         │         \u001b[38;5;34m18\u001b[0m │ dense_3[\u001b[38;5;34m0\u001b[0m][\u001b[38;5;34m0\u001b[0m]     │\n",
              "├─────────────────────┼───────────────────┼────────────┼───────────────────┤\n",
              "│ output_3 (\u001b[38;5;33mDense\u001b[0m)    │ (\u001b[38;5;45mNone\u001b[0m, \u001b[38;5;34m2\u001b[0m)         │         \u001b[38;5;34m18\u001b[0m │ dense_3[\u001b[38;5;34m0\u001b[0m][\u001b[38;5;34m0\u001b[0m]     │\n",
              "├─────────────────────┼───────────────────┼────────────┼───────────────────┤\n",
              "│ output_4 (\u001b[38;5;33mDense\u001b[0m)    │ (\u001b[38;5;45mNone\u001b[0m, \u001b[38;5;34m2\u001b[0m)         │         \u001b[38;5;34m18\u001b[0m │ dense_3[\u001b[38;5;34m0\u001b[0m][\u001b[38;5;34m0\u001b[0m]     │\n",
              "├─────────────────────┼───────────────────┼────────────┼───────────────────┤\n",
              "│ output_5 (\u001b[38;5;33mDense\u001b[0m)    │ (\u001b[38;5;45mNone\u001b[0m, \u001b[38;5;34m2\u001b[0m)         │         \u001b[38;5;34m18\u001b[0m │ dense_3[\u001b[38;5;34m0\u001b[0m][\u001b[38;5;34m0\u001b[0m]     │\n",
              "└─────────────────────┴───────────────────┴────────────┴───────────────────┘\n"
            ]
          },
          "metadata": {},
          "output_type": "display_data"
        },
        {
          "data": {
            "text/html": [
              "<pre style=\"white-space:pre;overflow-x:auto;line-height:normal;font-family:Menlo,'DejaVu Sans Mono',consolas,'Courier New',monospace\"><span style=\"font-weight: bold\"> Total params: </span><span style=\"color: #00af00; text-decoration-color: #00af00\">979,794</span> (3.74 MB)\n",
              "</pre>\n"
            ],
            "text/plain": [
              "\u001b[1m Total params: \u001b[0m\u001b[38;5;34m979,794\u001b[0m (3.74 MB)\n"
            ]
          },
          "metadata": {},
          "output_type": "display_data"
        },
        {
          "data": {
            "text/html": [
              "<pre style=\"white-space:pre;overflow-x:auto;line-height:normal;font-family:Menlo,'DejaVu Sans Mono',consolas,'Courier New',monospace\"><span style=\"font-weight: bold\"> Trainable params: </span><span style=\"color: #00af00; text-decoration-color: #00af00\">979,794</span> (3.74 MB)\n",
              "</pre>\n"
            ],
            "text/plain": [
              "\u001b[1m Trainable params: \u001b[0m\u001b[38;5;34m979,794\u001b[0m (3.74 MB)\n"
            ]
          },
          "metadata": {},
          "output_type": "display_data"
        },
        {
          "data": {
            "text/html": [
              "<pre style=\"white-space:pre;overflow-x:auto;line-height:normal;font-family:Menlo,'DejaVu Sans Mono',consolas,'Courier New',monospace\"><span style=\"font-weight: bold\"> Non-trainable params: </span><span style=\"color: #00af00; text-decoration-color: #00af00\">0</span> (0.00 B)\n",
              "</pre>\n"
            ],
            "text/plain": [
              "\u001b[1m Non-trainable params: \u001b[0m\u001b[38;5;34m0\u001b[0m (0.00 B)\n"
            ]
          },
          "metadata": {},
          "output_type": "display_data"
        }
      ],
      "source": [
        "import tensorflow as tf\n",
        "\n",
        "INPUT_SIZE = 500  # (adjust based on your tokenizer)\n",
        "WORDS_SIZE = tokenizer.num_words  # or len(tokenizer.word_index)+1\n",
        "random_weights = np.random.rand(WORDS_SIZE, 13)  # example, you probably loaded pre-trained weights\n",
        "\n",
        "# Build the input\n",
        "inp_layer = tf.keras.layers.Input(shape=(INPUT_SIZE,))\n",
        "\n",
        "# Embedding + CNN\n",
        "mid_layers = tf.keras.layers.Embedding(\n",
        "    input_dim=WORDS_SIZE,\n",
        "    output_dim=13,\n",
        "    weights=[random_weights]\n",
        ")(inp_layer)\n",
        "mid_layers = tf.keras.layers.Conv1D(filters=256, kernel_size=9, padding='same', activation='relu')(mid_layers)\n",
        "mid_layers = tf.keras.layers.MaxPooling1D(pool_size=5)(mid_layers)\n",
        "mid_layers = tf.keras.layers.Dropout(0.5)(mid_layers)\n",
        "mid_layers = tf.keras.layers.Flatten()(mid_layers)\n",
        "mid_layers = tf.keras.layers.Dense(32, activation='relu')(mid_layers)\n",
        "mid_layers = tf.keras.layers.Dense(8, activation='relu')(mid_layers)\n",
        "\n",
        "# 5 truly separate outputs\n",
        "output1 = tf.keras.layers.Dense(2, activation='softmax', name=\"output_1\")(mid_layers)\n",
        "output2 = tf.keras.layers.Dense(2, activation='softmax', name=\"output_2\")(mid_layers)\n",
        "output3 = tf.keras.layers.Dense(2, activation='softmax', name=\"output_3\")(mid_layers)\n",
        "output4 = tf.keras.layers.Dense(2, activation='softmax', name=\"output_4\")(mid_layers)\n",
        "output5 = tf.keras.layers.Dense(2, activation='softmax', name=\"output_5\")(mid_layers)\n",
        "\n",
        "# Final model with **5 outputs**\n",
        "model = tf.keras.Model(inputs=inp_layer, outputs=[output1, output2, output3, output4, output5])\n",
        "\n",
        "# Compile\n",
        "optimizer = tf.keras.optimizers.Adam(learning_rate=0.005)\n",
        "model.compile(\n",
        "    optimizer=tf.keras.optimizers.Adam(learning_rate=0.005),\n",
        "    loss='categorical_crossentropy',\n",
        "    metrics=['accuracy', 'accuracy', 'accuracy', 'accuracy', 'accuracy']  # ✅ one per output\n",
        ")\n",
        "\n",
        "\n",
        "print(\"✅ Model rebuilt correctly with 5 separate outputs.\")\n",
        "model.summary()\n"
      ]
    },
    {
      "cell_type": "markdown",
      "metadata": {
        "id": "_6GE0bKeN4NC"
      },
      "source": [
        "### Tensorboard Callbacks"
      ]
    },
    {
      "cell_type": "code",
      "execution_count": 35,
      "metadata": {
        "id": "LCFmM8ZyN4NC"
      },
      "outputs": [],
      "source": [
        "## Create TensorBoard callbacks\n",
        "\n",
        "callbackdir= 'D:\\\\temp\\\\cb'\n",
        "\n",
        "tbCallback = tf.keras.callbacks.TensorBoard(log_dir=callbackdir,\n",
        "                         histogram_freq=1,\n",
        "                         embeddings_freq=1,\n",
        "                         write_graph=True,\n",
        "                         write_images=True)\n",
        "\n",
        "tbCallback.set_model(model)\n",
        "mld = 'model/model-ALL-{epoch:02d}.keras'\n",
        "\n",
        "\n",
        "## Create best model callback\n",
        "mcp = tf.keras.callbacks.ModelCheckpoint(filepath=mld,\n",
        "                                         monitor=\"val_loss\",\n",
        "                                         save_best_only=True,\n",
        "                                         mode='auto',\n",
        "                                         save_freq='epoch',\n",
        "                                         verbose=1)"
      ]
    },
    {
      "cell_type": "markdown",
      "metadata": {
        "id": "I_DyAK7oN4ND"
      },
      "source": [
        "### Model Training"
      ]
    },
    {
      "cell_type": "code",
      "execution_count": null,
      "metadata": {
        "colab": {
          "base_uri": "https://localhost:8080/"
        },
        "id": "sjRl6IOPeRQu",
        "outputId": "1cb4f741-eb86-430b-aa9e-368a73187276"
      },
      "outputs": [
        {
          "name": "stdout",
          "output_type": "stream",
          "text": [
            "Output: output_1\n",
            "  y_train shape: (127419, 2)\n",
            "  sample_weight shape: (127419,)\n",
            "Output: output_2\n",
            "  y_train shape: (127419, 2)\n",
            "  sample_weight shape: (127419,)\n",
            "Output: output_3\n",
            "  y_train shape: (127419, 2)\n",
            "  sample_weight shape: (127419,)\n",
            "Output: output_4\n",
            "  y_train shape: (127419, 2)\n",
            "  sample_weight shape: (127419,)\n",
            "Output: output_5\n",
            "  y_train shape: (127419, 2)\n",
            "  sample_weight shape: (127419,)\n",
            "Epoch 1/10\n",
            "\n",
            "Epoch 1: val_loss improved from inf to 0.49491, saving model to model/model-ALL-01.keras\n",
            "996/996 - 669s - 672ms/step - loss: 1.3905 - output_1_accuracy: 0.9785 - output_1_loss: 0.2648 - output_2_accuracy: 0.9373 - output_2_loss: 0.4300 - output_3_accuracy: 0.9958 - output_3_loss: 0.0749 - output_4_accuracy: 0.9837 - output_4_loss: 0.2421 - output_5_accuracy: 0.9710 - output_5_loss: 0.3790 - val_loss: 0.4949 - val_output_1_accuracy: 0.9808 - val_output_1_loss: 0.1034 - val_output_2_accuracy: 0.9277 - val_output_2_loss: 0.1777 - val_output_3_accuracy: 0.9978 - val_output_3_loss: 0.0227 - val_output_4_accuracy: 0.9906 - val_output_4_loss: 0.0686 - val_output_5_accuracy: 0.9726 - val_output_5_loss: 0.1225\n",
            "Epoch 2/10\n",
            "\n",
            "Epoch 2: val_loss improved from 0.49491 to 0.47161, saving model to model/model-ALL-02.keras\n",
            "996/996 - 681s - 684ms/step - loss: 1.0911 - output_1_accuracy: 0.9807 - output_1_loss: 0.2133 - output_2_accuracy: 0.9159 - output_2_loss: 0.3273 - output_3_accuracy: 0.9978 - output_3_loss: 0.0454 - output_4_accuracy: 0.9906 - output_4_loss: 0.1776 - output_5_accuracy: 0.9726 - output_5_loss: 0.3277 - val_loss: 0.4716 - val_output_1_accuracy: 0.9808 - val_output_1_loss: 0.1046 - val_output_2_accuracy: 0.9223 - val_output_2_loss: 0.1601 - val_output_3_accuracy: 0.9978 - val_output_3_loss: 0.0183 - val_output_4_accuracy: 0.9906 - val_output_4_loss: 0.0658 - val_output_5_accuracy: 0.9726 - val_output_5_loss: 0.1228\n",
            "Epoch 3/10\n",
            "\n",
            "Epoch 3: val_loss improved from 0.47161 to 0.44732, saving model to model/model-ALL-03.keras\n",
            "996/996 - 669s - 672ms/step - loss: 0.9980 - output_1_accuracy: 0.9807 - output_1_loss: 0.1956 - output_2_accuracy: 0.9175 - output_2_loss: 0.2838 - output_3_accuracy: 0.9978 - output_3_loss: 0.0416 - output_4_accuracy: 0.9906 - output_4_loss: 0.1737 - output_5_accuracy: 0.9719 - output_5_loss: 0.3037 - val_loss: 0.4473 - val_output_1_accuracy: 0.9808 - val_output_1_loss: 0.1001 - val_output_2_accuracy: 0.9150 - val_output_2_loss: 0.1461 - val_output_3_accuracy: 0.9978 - val_output_3_loss: 0.0185 - val_output_4_accuracy: 0.9906 - val_output_4_loss: 0.0629 - val_output_5_accuracy: 0.9726 - val_output_5_loss: 0.1198\n",
            "Epoch 4/10\n",
            "\n",
            "Epoch 4: val_loss improved from 0.44732 to 0.38006, saving model to model/model-ALL-04.keras\n",
            "996/996 - 687s - 689ms/step - loss: 0.9486 - output_1_accuracy: 0.9804 - output_1_loss: 0.1846 - output_2_accuracy: 0.9173 - output_2_loss: 0.2611 - output_3_accuracy: 0.9978 - output_3_loss: 0.0412 - output_4_accuracy: 0.9906 - output_4_loss: 0.1710 - output_5_accuracy: 0.9636 - output_5_loss: 0.2908 - val_loss: 0.3801 - val_output_1_accuracy: 0.9808 - val_output_1_loss: 0.0823 - val_output_2_accuracy: 0.9305 - val_output_2_loss: 0.1164 - val_output_3_accuracy: 0.9978 - val_output_3_loss: 0.0155 - val_output_4_accuracy: 0.9906 - val_output_4_loss: 0.0579 - val_output_5_accuracy: 0.9726 - val_output_5_loss: 0.1079\n",
            "Epoch 5/10\n",
            "\n",
            "Epoch 5: val_loss did not improve from 0.38006\n",
            "996/996 - 681s - 683ms/step - loss: 0.8966 - output_1_accuracy: 0.9768 - output_1_loss: 0.1754 - output_2_accuracy: 0.9200 - output_2_loss: 0.2409 - output_3_accuracy: 0.9978 - output_3_loss: 0.0399 - output_4_accuracy: 0.9906 - output_4_loss: 0.1659 - output_5_accuracy: 0.9386 - output_5_loss: 0.2746 - val_loss: 0.4349 - val_output_1_accuracy: 0.9808 - val_output_1_loss: 0.0983 - val_output_2_accuracy: 0.9226 - val_output_2_loss: 0.1344 - val_output_3_accuracy: 0.9978 - val_output_3_loss: 0.0179 - val_output_4_accuracy: 0.9906 - val_output_4_loss: 0.0643 - val_output_5_accuracy: 0.9726 - val_output_5_loss: 0.1200\n",
            "Epoch 6/10\n",
            "\n",
            "Epoch 6: val_loss did not improve from 0.38006\n",
            "996/996 - 692s - 695ms/step - loss: 0.8664 - output_1_accuracy: 0.9700 - output_1_loss: 0.1680 - output_2_accuracy: 0.9194 - output_2_loss: 0.2322 - output_3_accuracy: 0.9978 - output_3_loss: 0.0395 - output_4_accuracy: 0.9906 - output_4_loss: 0.1615 - output_5_accuracy: 0.9411 - output_5_loss: 0.2654 - val_loss: 0.4121 - val_output_1_accuracy: 0.9808 - val_output_1_loss: 0.0852 - val_output_2_accuracy: 0.9266 - val_output_2_loss: 0.1264 - val_output_3_accuracy: 0.9978 - val_output_3_loss: 0.0161 - val_output_4_accuracy: 0.9906 - val_output_4_loss: 0.0653 - val_output_5_accuracy: 0.9724 - val_output_5_loss: 0.1192\n",
            "Epoch 7/10\n",
            "\n",
            "Epoch 7: val_loss did not improve from 0.38006\n",
            "996/996 - 644s - 646ms/step - loss: 0.8336 - output_1_accuracy: 0.9652 - output_1_loss: 0.1632 - output_2_accuracy: 0.9213 - output_2_loss: 0.2201 - output_3_accuracy: 0.9978 - output_3_loss: 0.0390 - output_4_accuracy: 0.9906 - output_4_loss: 0.1580 - output_5_accuracy: 0.9290 - output_5_loss: 0.2536 - val_loss: 0.4789 - val_output_1_accuracy: 0.9808 - val_output_1_loss: 0.1055 - val_output_2_accuracy: 0.9102 - val_output_2_loss: 0.1515 - val_output_3_accuracy: 0.9978 - val_output_3_loss: 0.0189 - val_output_4_accuracy: 0.9906 - val_output_4_loss: 0.0709 - val_output_5_accuracy: 0.9726 - val_output_5_loss: 0.1320\n",
            "Epoch 8/10\n",
            "\n",
            "Epoch 8: val_loss did not improve from 0.38006\n",
            "996/996 - 648s - 651ms/step - loss: 0.8186 - output_1_accuracy: 0.9631 - output_1_loss: 0.1597 - output_2_accuracy: 0.9203 - output_2_loss: 0.2187 - output_3_accuracy: 0.9978 - output_3_loss: 0.0393 - output_4_accuracy: 0.9906 - output_4_loss: 0.1546 - output_5_accuracy: 0.9214 - output_5_loss: 0.2465 - val_loss: 0.3874 - val_output_1_accuracy: 0.9808 - val_output_1_loss: 0.0844 - val_output_2_accuracy: 0.9231 - val_output_2_loss: 0.1193 - val_output_3_accuracy: 0.9978 - val_output_3_loss: 0.0167 - val_output_4_accuracy: 0.9906 - val_output_4_loss: 0.0582 - val_output_5_accuracy: 0.9726 - val_output_5_loss: 0.1089\n",
            "Epoch 9/10\n",
            "\n",
            "Epoch 9: val_loss did not improve from 0.38006\n",
            "996/996 - 651s - 653ms/step - loss: 0.8005 - output_1_accuracy: 0.9562 - output_1_loss: 0.1579 - output_2_accuracy: 0.9241 - output_2_loss: 0.2138 - output_3_accuracy: 0.9978 - output_3_loss: 0.0399 - output_4_accuracy: 0.9906 - output_4_loss: 0.1511 - output_5_accuracy: 0.9145 - output_5_loss: 0.2381 - val_loss: 0.4160 - val_output_1_accuracy: 0.9807 - val_output_1_loss: 0.0915 - val_output_2_accuracy: 0.9202 - val_output_2_loss: 0.1326 - val_output_3_accuracy: 0.9978 - val_output_3_loss: 0.0173 - val_output_4_accuracy: 0.9906 - val_output_4_loss: 0.0587 - val_output_5_accuracy: 0.9726 - val_output_5_loss: 0.1160\n",
            "Epoch 10/10\n",
            "\n",
            "Epoch 10: val_loss did not improve from 0.38006\n",
            "996/996 - 679s - 682ms/step - loss: 0.7847 - output_1_accuracy: 0.9523 - output_1_loss: 0.1562 - output_2_accuracy: 0.9237 - output_2_loss: 0.2098 - output_3_accuracy: 0.9978 - output_3_loss: 0.0389 - output_4_accuracy: 0.9906 - output_4_loss: 0.1462 - output_5_accuracy: 0.9057 - output_5_loss: 0.2337 - val_loss: 0.3964 - val_output_1_accuracy: 0.9808 - val_output_1_loss: 0.0860 - val_output_2_accuracy: 0.9256 - val_output_2_loss: 0.1226 - val_output_3_accuracy: 0.9978 - val_output_3_loss: 0.0166 - val_output_4_accuracy: 0.9906 - val_output_4_loss: 0.0573 - val_output_5_accuracy: 0.9722 - val_output_5_loss: 0.1139\n"
          ]
        }
      ],
      "source": [
        "import numpy as np\n",
        "import pickle\n",
        "import tensorflow as tf\n",
        "import os\n",
        "\n",
        "# 1. Create sample weights function\n",
        "def make_sample_weights(y, pos_weight=5.0):\n",
        "    return np.where(np.argmax(y, axis=1) == 1, pos_weight, 1.0)\n",
        "\n",
        "# 2. Create label lists\n",
        "y_train_list = [y for y in y_train]\n",
        "y_val_list = [y for y in y_validate]\n",
        "\n",
        "# 3. Create sample weight list\n",
        "sample_weight_list = [make_sample_weights(y, 5.0) for y in y_train]\n",
        "\n",
        "# 4. Print debug info\n",
        "for idx, name in enumerate(model.output_names):\n",
        "    print(f\"Output: {name}\")\n",
        "    print(f\"  y_train shape: {y_train_list[idx].shape}\")\n",
        "    print(f\"  sample_weight shape: {sample_weight_list[idx].shape}\")\n",
        "\n",
        "# 5. ✅ FINAL Correct model.fit (list format!)\n",
        "history = model.fit(\n",
        "    x=x_train,\n",
        "    y=y_train_list,                      # ✅ LIST not dict\n",
        "    validation_data=(x_validate, y_val_list),  # ✅ validation as list too\n",
        "    sample_weight=sample_weight_list,    # ✅ LIST sample weight\n",
        "    epochs=10,\n",
        "    batch_size=128,\n",
        "    verbose=2,\n",
        "    callbacks=[mcp, tbCallback]\n",
        ")\n",
        "\n",
        "# 6. Save history\n",
        "os.makedirs('history', exist_ok=True)\n",
        "\n",
        "with open('history/History-ALL-40EP-CNN', 'wb') as file_pi:\n",
        "    pickle.dump(history.history, file_pi)\n"
      ]
    },
    {
      "cell_type": "markdown",
      "metadata": {},
      "source": [
        "<h3>Training Random Forest ensamble</h3>"
      ]
    },
    {
      "cell_type": "code",
      "execution_count": null,
      "metadata": {},
      "outputs": [],
      "source": [
        "rf_classifier = RandomForestClassifier(n_estimators=100, random_state=42)\n",
        "rf_classifier.fit(X_train_features, y_train)\n",
        "\n",
        "y_pred = rf_classifier.predict(X_test_features)"
      ]
    },
    {
      "cell_type": "code",
      "execution_count": 41,
      "metadata": {
        "colab": {
          "base_uri": "https://localhost:8080/"
        },
        "id": "FqqE3aE1fO9D",
        "outputId": "35b02f94-f813-41cb-cb90-f1e1b4b44151"
      },
      "outputs": [
        {
          "name": "stdout",
          "output_type": "stream",
          "text": [
            "Model output names: ListWrapper(['dense_17', 'dense_18', 'dense_19', 'dense_20', 'dense_21'])\n",
            "Model output shapes:\n",
            "(None, 2)\n",
            "(None, 2)\n",
            "(None, 2)\n",
            "(None, 2)\n",
            "(None, 2)\n"
          ]
        }
      ],
      "source": [
        "print(\"Model output names:\", model.output_names)\n",
        "print(\"Model output shapes:\")\n",
        "for out in model.outputs:\n",
        "    print(out.shape)\n"
      ]
    },
    {
      "cell_type": "code",
      "execution_count": 42,
      "metadata": {
        "colab": {
          "base_uri": "https://localhost:8080/"
        },
        "id": "sQPRz5qNegbY",
        "outputId": "8a53e24c-e2db-4d3d-d0fe-af746b4246ff"
      },
      "outputs": [
        {
          "name": "stdout",
          "output_type": "stream",
          "text": [
            "x_train shape: (127419, 500)\n",
            "x_train dtype: int64\n",
            "Any NaNs in x_train? False\n",
            "x_train sample: [[ 119  111  390  158  111   17   67    6 2019  417    4  160  111   23\n",
            "    26  587  351    1  158  660 1252   62   46  158  660 1252   62    1\n",
            "   158  660 1252  377   62   46  158  660 1252  377   62   33   26  587\n",
            "   711  377 1038 3963 1038 5789  158 1038    2    2    5    5 3963  377\n",
            "   158  582  572   38  158  582  572   70  104  124  587 1661 1252  443\n",
            "   979 3963  443  979  305   67  158  660 1252  377   62 2019  158  582\n",
            "   572   38  158 1026  417  158  582  572   70  158 1026  158  660 1252\n",
            "    70  110   16    4    2    4  158  660 1252  216    4  417  587 1661\n",
            "  1252  443  216   67  158  660 1252  155    5 3963  443  101  587 1661\n",
            "  1252  443 3963  377 2019  417    5   67  104  504    1  158  587   87\n",
            "   158  158 4872    1  587 1252 5568 3963 1038  607 3963  377 2019  158\n",
            "   660 1252   38  587 1661 1252  443  155  158  582  572   70  158 1026\n",
            "   158  660 1252   70  110  158  660 1252   70  587 1661 1252  443  216\n",
            "     5  587 1661 1252  443  216   33   26  587   87 3362    1  587 1252\n",
            "  5257  111   87 5257  587 1252  888 6723  587 1252  167   87  158  111\n",
            "    87 5257  111   87 1612 3963 1576 1645  587 1661   23 1576   33   26\n",
            "   587   87 4777  587 1252 5257    5   33   26  587 1284   69  587 1252\n",
            "  5568    2  587  158  711  158   33   26  587 2566 3963 1576 1645  587\n",
            "  1661 2394 1576 2019  111  301   38  158  582  572   38  158 1026  417\n",
            "   111  301   70  158  582  572   70  158 1026  158  660 1252   70  110\n",
            "   587 1252 1568  504  158  417  587 1661 1252  443  216  158  660 1252\n",
            "   155 2019  587 1661 1252  443  155  158  660 1252   91  158  660 1252\n",
            "   112    5  587 1252 5568    5  587 1252 5568  130    2  587  158  711\n",
            "   158   33    0    0    0    0    0    0    0    0    0    0    0    0\n",
            "     0    0    0    0    0    0    0    0    0    0    0    0    0    0\n",
            "     0    0    0    0    0    0    0    0    0    0    0    0    0    0\n",
            "     0    0    0    0    0    0    0    0    0    0    0    0    0    0\n",
            "     0    0    0    0    0    0    0    0    0    0    0    0    0    0\n",
            "     0    0    0    0    0    0    0    0    0    0    0    0    0    0\n",
            "     0    0    0    0    0    0    0    0    0    0    0    0    0    0\n",
            "     0    0    0    0    0    0    0    0    0    0    0    0    0    0\n",
            "     0    0    0    0    0    0    0    0    0    0    0    0    0    0\n",
            "     0    0    0    0    0    0    0    0    0    0    0    0    0    0\n",
            "     0    0    0    0    0    0    0    0    0    0    0    0    0    0\n",
            "     0    0    0    0    0    0    0    0    0    0    0    0    0    0\n",
            "     0    0    0    0    0    0    0    0    0    0]]\n"
          ]
        }
      ],
      "source": [
        "print(\"x_train shape:\", x_train.shape)\n",
        "print(\"x_train dtype:\", x_train.dtype)\n",
        "print(\"Any NaNs in x_train?\", np.isnan(x_train).any())\n",
        "print(\"x_train sample:\", x_train[:1])\n"
      ]
    },
    {
      "cell_type": "markdown",
      "metadata": {
        "id": "SSConYmYN4ND"
      },
      "source": [
        "### Model Evaluation using Testing Set"
      ]
    },
    {
      "cell_type": "code",
      "execution_count": 39,
      "metadata": {
        "colab": {
          "base_uri": "https://localhost:8080/"
        },
        "id": "W0ialqezN4ND",
        "outputId": "948cffc4-b41a-41f9-8a3a-6385c8aa47da"
      },
      "outputs": [
        {
          "name": "stderr",
          "output_type": "stream",
          "text": [
            "/usr/local/lib/python3.11/dist-packages/keras/src/layers/core/embedding.py:90: UserWarning: Argument `input_length` is deprecated. Just remove it.\n",
            "  warnings.warn(\n",
            "/usr/local/lib/python3.11/dist-packages/keras/src/layers/core/embedding.py:93: UserWarning: Do not pass an `input_shape`/`input_dim` argument to a layer. When using Sequential models, prefer using an `Input(shape)` object as the first layer in the model instead.\n",
            "  super().__init__(**kwargs)\n",
            "/usr/local/lib/python3.11/dist-packages/keras/src/optimizers/base_optimizer.py:86: UserWarning: Argument `decay` is no longer supported and will be ignored.\n",
            "  warnings.warn(\n",
            "WARNING:absl:Compiled the loaded model, but the compiled metrics have yet to be built. `model.compile_metrics` will be empty until you train or evaluate the model.\n",
            "WARNING:absl:Error in loading the saved optimizer state. As a result, your model is starting with a freshly initialized optimizer.\n"
          ]
        }
      ],
      "source": [
        "# Load model\n",
        "model = tf.keras.models.load_model('/content/svd_1.hdf5')"
      ]
    },
    {
      "cell_type": "code",
      "execution_count": 47,
      "metadata": {
        "colab": {
          "base_uri": "https://localhost:8080/"
        },
        "id": "H7zyb78SN4ND",
        "outputId": "181ea980-b887-4677-f1ef-559bab76c01f"
      },
      "outputs": [
        {
          "name": "stdout",
          "output_type": "stream",
          "text": [
            "\u001b[1m996/996\u001b[0m \u001b[32m━━━━━━━━━━━━━━━━━━━━\u001b[0m\u001b[37m\u001b[0m \u001b[1m136s\u001b[0m 135ms/step - loss: 3.0199 - output_1_accuracy: 0.9808 - output_1_loss: 0.5152 - output_2_accuracy: 0.9618 - output_2_loss: 0.5935 - output_3_accuracy: 0.9977 - output_3_loss: 0.5982 - output_4_accuracy: 0.0276 - output_4_loss: 0.7343 - output_5_accuracy: 0.9719 - output_5_loss: 0.5787\n",
            "loss: 3.0197393894195557\n",
            "compile_metrics: 0.5151699781417847\n",
            "output_1_loss: 0.5935842394828796\n",
            "output_2_loss: 0.5980848073959351\n",
            "output_3_loss: 0.7343561053276062\n",
            "output_4_loss: 0.5785500407218933\n",
            "output_5_loss: 0.980756402015686\n"
          ]
        }
      ],
      "source": [
        "results = model.evaluate(x_test, y_test, batch_size=128)\n",
        "\n",
        "# Print results\n",
        "for name, result in zip(model.metrics_names, results):\n",
        "    print(f\"{name}: {result}\")\n"
      ]
    },
    {
      "cell_type": "markdown",
      "metadata": {
        "id": "wWbdoQ0WN4NE"
      },
      "source": [
        "### Check The Evaluation Metrics"
      ]
    },
    {
      "cell_type": "code",
      "execution_count": 48,
      "metadata": {
        "colab": {
          "base_uri": "https://localhost:8080/"
        },
        "id": "h6iHmxazN4NE",
        "outputId": "55bf834f-f0e9-47db-c12e-5c4ca2d481a5"
      },
      "outputs": [
        {
          "name": "stdout",
          "output_type": "stream",
          "text": [
            "\u001b[1m3982/3982\u001b[0m \u001b[32m━━━━━━━━━━━━━━━━━━━━\u001b[0m\u001b[37m\u001b[0m \u001b[1m108s\u001b[0m 27ms/step\n"
          ]
        }
      ],
      "source": [
        "predicted = model.predict(x_test)"
      ]
    },
    {
      "cell_type": "code",
      "execution_count": 49,
      "metadata": {
        "colab": {
          "base_uri": "https://localhost:8080/"
        },
        "id": "L1j8qT-sN4NE",
        "outputId": "431f46de-dcb0-449d-9782-f75dac48d82e"
      },
      "outputs": [
        {
          "name": "stdout",
          "output_type": "stream",
          "text": [
            "0    127419\n",
            "Name: count, dtype: int64\n",
            "0    127419\n",
            "Name: count, dtype: int64\n",
            "0    127419\n",
            "Name: count, dtype: int64\n",
            "1    125084\n",
            "0      2335\n",
            "Name: count, dtype: int64\n",
            "0    127378\n",
            "1        41\n",
            "Name: count, dtype: int64\n"
          ]
        },
        {
          "name": "stderr",
          "output_type": "stream",
          "text": [
            "<ipython-input-49-c17da7068297>:11: FutureWarning: pandas.value_counts is deprecated and will be removed in a future version. Use pd.Series(obj).value_counts() instead.\n",
            "  print(pd.value_counts(pred_test[col]))\n",
            "<ipython-input-49-c17da7068297>:11: FutureWarning: value_counts with argument that is not not a Series, Index, ExtensionArray, or np.ndarray is deprecated and will raise in a future version.\n",
            "  print(pd.value_counts(pred_test[col]))\n"
          ]
        }
      ],
      "source": [
        "pred_test = [[],[],[],[],[]]\n",
        "\n",
        "for col in range(0,len(predicted)):\n",
        "    for row in predicted[col]:\n",
        "        if row[0] >= row[1]:\n",
        "            pred_test[col].append(0)\n",
        "        else:\n",
        "            pred_test[col].append(1)\n",
        "\n",
        "for col in range(0,len(predicted)):\n",
        "    print(pd.value_counts(pred_test[col]))"
      ]
    },
    {
      "cell_type": "markdown",
      "metadata": {
        "id": "R9A9h4ajN4NE"
      },
      "source": [
        "### Evaluate on the testing set"
      ]
    },
    {
      "cell_type": "code",
      "execution_count": 50,
      "metadata": {
        "colab": {
          "base_uri": "https://localhost:8080/"
        },
        "id": "dtgGKZ5tN4NE",
        "outputId": "7adffb12-5789-4170-ea6e-975e5d8871ce"
      },
      "outputs": [
        {
          "name": "stdout",
          "output_type": "stream",
          "text": [
            "\n",
            "This is evaluation for column 1\n",
            "[[124967      0]\n",
            " [  2452      0]]\n",
            "\n",
            "TP: 0\n",
            "FP: 0\n",
            "TN: 124967\n",
            "FN: 2452\n",
            "\n",
            "Accuracy: 0.9807564021064362\n",
            "Precision: 0.0\n",
            "Recall: 0.0\n"
          ]
        },
        {
          "name": "stderr",
          "output_type": "stream",
          "text": [
            "/usr/local/lib/python3.11/dist-packages/sklearn/metrics/_classification.py:1565: UndefinedMetricWarning: Precision is ill-defined and being set to 0.0 due to no predicted samples. Use `zero_division` parameter to control this behavior.\n",
            "  _warn_prf(average, modifier, f\"{metric.capitalize()} is\", len(result))\n"
          ]
        },
        {
          "name": "stdout",
          "output_type": "stream",
          "text": [
            "F-measure: 0.0\n",
            "Precision-Recall AUC: 0.019877819300448782\n",
            "AUC: 0.4685713194678175\n",
            "MCC: 0.0\n",
            "\n",
            "This is evaluation for column 2\n",
            "[[122528      0]\n",
            " [  4891      0]]\n",
            "\n",
            "TP: 0\n",
            "FP: 0\n",
            "TN: 122528\n",
            "FN: 4891\n",
            "\n",
            "Accuracy: 0.9616148298134501\n"
          ]
        },
        {
          "name": "stderr",
          "output_type": "stream",
          "text": [
            "/usr/local/lib/python3.11/dist-packages/sklearn/metrics/_classification.py:1565: UndefinedMetricWarning: Precision is ill-defined and being set to 0.0 due to no predicted samples. Use `zero_division` parameter to control this behavior.\n",
            "  _warn_prf(average, modifier, f\"{metric.capitalize()} is\", len(result))\n"
          ]
        },
        {
          "name": "stdout",
          "output_type": "stream",
          "text": [
            "Precision: 0.0\n",
            "Recall: 0.0\n",
            "F-measure: 0.0\n",
            "Precision-Recall AUC: 0.043566725416195815\n",
            "AUC: 0.5020337721161754\n",
            "MCC: 0.0\n",
            "\n",
            "This is evaluation for column 3\n",
            "[[127141      0]\n",
            " [   278      0]]\n",
            "\n",
            "TP: 0\n",
            "FP: 0\n",
            "TN: 127141\n",
            "FN: 278\n",
            "\n",
            "Accuracy: 0.9978182217722632\n"
          ]
        },
        {
          "name": "stderr",
          "output_type": "stream",
          "text": [
            "/usr/local/lib/python3.11/dist-packages/sklearn/metrics/_classification.py:1565: UndefinedMetricWarning: Precision is ill-defined and being set to 0.0 due to no predicted samples. Use `zero_division` parameter to control this behavior.\n",
            "  _warn_prf(average, modifier, f\"{metric.capitalize()} is\", len(result))\n"
          ]
        },
        {
          "name": "stdout",
          "output_type": "stream",
          "text": [
            "Precision: 0.0\n",
            "Recall: 0.0\n",
            "F-measure: 0.0\n",
            "Precision-Recall AUC: 0.004226291253841686\n",
            "AUC: 0.6069992591355692\n",
            "MCC: 0.0\n",
            "\n",
            "This is evaluation for column 4\n",
            "[[  2306 123921]\n",
            " [    29   1163]]\n",
            "\n",
            "TP: 1163\n",
            "FP: 123921\n",
            "TN: 2306\n",
            "FN: 29\n",
            "\n",
            "Accuracy: 0.027225139107982327\n",
            "Precision: 0.009297751910715999\n",
            "Recall: 0.9756711409395973\n",
            "F-measure: 0.018419968956888088\n",
            "Precision-Recall AUC: 0.011782526055157052\n",
            "AUC: 0.5533847072571876\n",
            "MCC: -0.004349664621084241\n",
            "\n",
            "This is evaluation for column 5\n",
            "[[123889     40]\n",
            " [  3489      1]]\n",
            "\n",
            "TP: 1\n",
            "FP: 40\n",
            "TN: 123889\n",
            "FN: 3489\n",
            "\n",
            "Accuracy: 0.9723039735047363\n",
            "Precision: 0.024390243902439025\n",
            "Recall: 0.00028653295128939826\n",
            "F-measure: 0.0005664117813650524\n",
            "Precision-Recall AUC: 0.038015434936765936\n",
            "AUC: 0.5722760439526089\n",
            "MCC: -0.0003297299398030333\n"
          ]
        }
      ],
      "source": [
        "\n",
        "for col in range(1,6):\n",
        "    print('\\nThis is evaluation for column',col)\n",
        "    confusion = sklearn.metrics.confusion_matrix(y_true=test.iloc[:,col].to_numpy(), y_pred=pred_test[col-1])\n",
        "    print(confusion)\n",
        "    tn, fp, fn, tp = confusion.ravel()\n",
        "    print('\\nTP:',tp)\n",
        "    print('FP:',fp)\n",
        "    print('TN:',tn)\n",
        "    print('FN:',fn)\n",
        "\n",
        "    ## Performance measure\n",
        "    print('\\nAccuracy: '+ str(sklearn.metrics.accuracy_score(y_true=test.iloc[:,col].to_numpy(), y_pred=pred_test[col-1])))\n",
        "    print('Precision: '+ str(sklearn.metrics.precision_score(y_true=test.iloc[:,col].to_numpy(), y_pred=pred_test[col-1])))\n",
        "    print('Recall: '+ str(sklearn.metrics.recall_score(y_true=test.iloc[:,col].to_numpy(), y_pred=pred_test[col-1])))\n",
        "    print('F-measure: '+ str(sklearn.metrics.f1_score(y_true=test.iloc[:,col].to_numpy(), y_pred=pred_test[col-1])))\n",
        "    print('Precision-Recall AUC: '+ str(sklearn.metrics.average_precision_score(y_true=test.iloc[:,col].to_numpy(), y_score=predicted[col-1][:,1])))\n",
        "    print('AUC: '+ str(sklearn.metrics.roc_auc_score(y_true=test.iloc[:,col].to_numpy(), y_score=predicted[col-1][:,1])))\n",
        "    print('MCC: '+ str(sklearn.metrics.matthews_corrcoef(y_true=test.iloc[:,col].to_numpy(), y_pred=pred_test[col-1])))"
      ]
    },
    {
      "cell_type": "markdown",
      "metadata": {
        "id": "49ctcuMNN4NF"
      },
      "source": [
        "### Plot The Model's Training History"
      ]
    },
    {
      "cell_type": "code",
      "execution_count": 52,
      "metadata": {
        "colab": {
          "base_uri": "https://localhost:8080/"
        },
        "id": "GtkeqkVhrTts",
        "outputId": "94a76630-9b00-41e8-daf0-7dc46033819c"
      },
      "outputs": [
        {
          "name": "stdout",
          "output_type": "stream",
          "text": [
            "✅ Loaded training history!\n"
          ]
        }
      ],
      "source": [
        "import pickle\n",
        "\n",
        "# Path to your saved history file\n",
        "history_path = '/content/svd_1'  # or your svd1 file path\n",
        "\n",
        "# Load history\n",
        "with open(history_path, 'rb') as f:\n",
        "    history_data = pickle.load(f)\n",
        "\n",
        "print(\"✅ Loaded training history!\")\n"
      ]
    },
    {
      "cell_type": "code",
      "execution_count": 54,
      "metadata": {
        "colab": {
          "base_uri": "https://localhost:8080/"
        },
        "id": "zHlBOspUrpw8",
        "outputId": "3d3d0a7c-49f9-4cab-a632-491571b2ff21"
      },
      "outputs": [
        {
          "name": "stdout",
          "output_type": "stream",
          "text": [
            "dict_keys(['loss', 'dense_17_loss', 'dense_18_loss', 'dense_19_loss', 'dense_20_loss', 'dense_21_loss', 'dense_17_accuracy', 'dense_18_accuracy', 'dense_19_accuracy', 'dense_20_accuracy', 'dense_21_accuracy', 'val_loss', 'val_dense_17_loss', 'val_dense_18_loss', 'val_dense_19_loss', 'val_dense_20_loss', 'val_dense_21_loss', 'val_dense_17_accuracy', 'val_dense_18_accuracy', 'val_dense_19_accuracy', 'val_dense_20_accuracy', 'val_dense_21_accuracy'])\n"
          ]
        }
      ],
      "source": [
        "print(history_data.keys())\n"
      ]
    },
    {
      "cell_type": "code",
      "execution_count": 57,
      "metadata": {
        "colab": {
          "base_uri": "https://localhost:8080/",
          "height": 1000
        },
        "id": "S_Qr0fa3N4NF",
        "outputId": "eb48314e-e91d-4b5d-d614-4837a6258256"
      },
      "outputs": [
        {
          "data": {
            "image/png": "[encoded data removed]",
            "text/plain": [
              "<Figure size 2000x1500 with 4 Axes>"
            ]
          },
          "metadata": {},
          "output_type": "display_data"
        }
      ],
      "source": [
        "import matplotlib.pyplot as plt\n",
        "\n",
        "# Correct epochs range\n",
        "epochs_range = range(len(history_data['loss']))\n",
        "\n",
        "fig, axs = plt.subplots(2, 2, figsize=(20, 15))\n",
        "fig.suptitle('CNN Training and Validation Curves (Based on Dense_17 to Dense_21)', fontsize=16)\n",
        "\n",
        "# Top-Left: Validation Accuracy for each output\n",
        "axs[0, 0].plot(epochs_range, history_data['dense_17_accuracy'], label='CWE-119', color='green')\n",
        "axs[0, 0].plot(epochs_range, history_data['dense_18_accuracy'], label='CWE-120', color='blue')\n",
        "axs[0, 0].plot(epochs_range, history_data['dense_19_accuracy'], label='CWE-469', color='red')\n",
        "axs[0, 0].plot(epochs_range, history_data['dense_20_accuracy'], label='CWE-476', color='purple')\n",
        "axs[0, 0].plot(epochs_range, history_data['dense_21_accuracy'], label='CWE-Other', color='orange')\n",
        "axs[0, 0].set_title('Validation Accuracy')\n",
        "axs[0, 0].legend()\n",
        "axs[0, 0].grid(True)\n",
        "\n",
        "# Top-Right: Training Accuracy for each output\n",
        "axs[0, 1].plot(epochs_range, history_data['val_dense_17_accuracy'], label='CWE-119', color='green')\n",
        "axs[0, 1].plot(epochs_range, history_data['val_dense_18_accuracy'], label='CWE-120', color='blue')\n",
        "axs[0, 1].plot(epochs_range, history_data['val_dense_19_accuracy'], label='CWE-469', color='red')\n",
        "axs[0, 1].plot(epochs_range, history_data['val_dense_20_accuracy'], label='CWE-476', color='purple')\n",
        "axs[0, 1].plot(epochs_range, history_data['val_dense_21_accuracy'], label='CWE-Other', color='orange')\n",
        "axs[0, 1].set_title('Training Accuracy')\n",
        "axs[0, 1].legend()\n",
        "axs[0, 1].grid(True)\n",
        "\n",
        "# Bottom-Left: Training Loss\n",
        "axs[1, 0].plot(epochs_range, history_data['loss'], label='Train Loss', color='black')\n",
        "axs[1, 0].set_title('Training Loss')\n",
        "axs[1, 0].legend()\n",
        "axs[1, 0].grid(True)\n",
        "\n",
        "# Bottom-Right: Validation Loss\n",
        "axs[1, 1].plot(epochs_range, history_data['val_loss'], label='Validation Loss', color='black')\n",
        "axs[1, 1].set_title('Validation Loss')\n",
        "axs[1, 1].legend()\n",
        "axs[1, 1].grid(True)\n",
        "\n",
        "plt.tight_layout()\n",
        "plt.show()\n"
      ]
    },
    {
      "cell_type": "code",
      "execution_count": 58,
      "metadata": {
        "colab": {
          "base_uri": "https://localhost:8080/",
          "height": 604
        },
        "id": "XhTMGVW_tLc8",
        "outputId": "867944fa-57b7-441b-bec1-2a330b8fa1b9"
      },
      "outputs": [
        {
          "data": {
            "image/png": "[encoded data removed]",
            "text/plain": [
              "<Figure size 1800x600 with 2 Axes>"
            ]
          },
          "metadata": {},
          "output_type": "display_data"
        }
      ],
      "source": [
        "fig, axs = plt.subplots(1, 2, figsize=(18, 6))\n",
        "fig.suptitle('Per-Output Training and Validation Loss')\n",
        "\n",
        "# validation Loss per output\n",
        "axs[0].plot(epochs_range, history_data['dense_17_loss'], label='CWE-119', color='green')\n",
        "axs[0].plot(epochs_range, history_data['dense_18_loss'], label='CWE-120', color='blue')\n",
        "axs[0].plot(epochs_range, history_data['dense_19_loss'], label='CWE-469', color='red')\n",
        "axs[0].plot(epochs_range, history_data['dense_20_loss'], label='CWE-476', color='purple')\n",
        "axs[0].plot(epochs_range, history_data['dense_21_loss'], label='CWE-Other', color='orange')\n",
        "axs[0].set_title('validation Loss per Output')\n",
        "axs[0].legend()\n",
        "axs[0].grid(True)\n",
        "\n",
        "# training Loss per output\n",
        "axs[1].plot(epochs_range, history_data['val_dense_17_loss'], label='CWE-119', color='green')\n",
        "axs[1].plot(epochs_range, history_data['val_dense_18_loss'], label='CWE-120', color='blue')\n",
        "axs[1].plot(epochs_range, history_data['val_dense_19_loss'], label='CWE-469', color='red')\n",
        "axs[1].plot(epochs_range, history_data['val_dense_20_loss'], label='CWE-476', color='purple')\n",
        "axs[1].plot(epochs_range, history_data['val_dense_21_loss'], label='CWE-Other', color='orange')\n",
        "axs[1].set_title('training Loss per Output')\n",
        "axs[1].legend()\n",
        "axs[1].grid(True)\n",
        "\n",
        "plt.tight_layout()\n",
        "plt.show()\n"
      ]
    },
    {
      "cell_type": "code",
      "execution_count": null,
      "metadata": {
        "id": "N6dSn-2cN4NF"
      },
      "outputs": [],
      "source": []
    }
  ],
  "metadata": {
    "colab": {
      "provenance": []
    },
    "kernelspec": {
      "display_name": "Python 3",
      "language": "python",
      "name": "python3"
    },
    "language_info": {
      "codemirror_mode": {
        "name": "ipython",
        "version": 3
      },
      "file_extension": ".py",
      "mimetype": "text/x-python",
      "name": "python",
      "nbconvert_exporter": "python",
      "pygments_lexer": "ipython3",
      "version": "3.6.9"
    }
  },
  "nbformat": 4,
  "nbformat_minor": 0
}
